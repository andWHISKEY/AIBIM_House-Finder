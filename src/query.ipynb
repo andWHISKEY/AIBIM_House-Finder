{
 "cells": [
  {
   "cell_type": "code",
   "execution_count": 3,
   "id": "858be6ad",
   "metadata": {},
   "outputs": [],
   "source": [
    "import pandas as pd\n",
    "import glob\n",
    "import numpy as np"
   ]
  },
  {
   "cell_type": "code",
   "execution_count": 5,
   "id": "5739ac73",
   "metadata": {},
   "outputs": [],
   "source": [
    "CSV_PATH=\"D:/SimGNNDATA/CSVFiles\" #기존 CSV파일 Folder경로\n",
    "CSV_LIST=glob.glob(CSV_PATH+'/*.csv') #CSV 파일 하나씩 경로 리스트화"
   ]
  },
  {
   "cell_type": "code",
   "execution_count": 14,
   "id": "6496240b",
   "metadata": {},
   "outputs": [
    {
     "data": {
      "text/plain": [
       "2910"
      ]
     },
     "execution_count": 14,
     "metadata": {},
     "output_type": "execute_result"
    }
   ],
   "source": [
    "len(CSV_LIST)"
   ]
  },
  {
   "cell_type": "markdown",
   "id": "17ec88a4",
   "metadata": {},
   "source": [
    "# 거실"
   ]
  },
  {
   "cell_type": "markdown",
   "id": "4f6e54a2",
   "metadata": {},
   "source": [
    "### 1. 거실-식당"
   ]
  },
  {
   "cell_type": "code",
   "execution_count": 12,
   "id": "bbdde44a",
   "metadata": {},
   "outputs": [],
   "source": [
    "#거실-식당이 연결된 관계\n",
    "Test=[]\n",
    "for CSV in CSV_LIST:\n",
    "    df = pd.read_csv(CSV,index_col=None,usecols=[1,3,4,5])\n",
    "    FIND=df.loc[(df['Label'] == 1) & (df['Adj_Label']==20)]['ID_encode'].values\n",
    "    if len(FIND)!=0:\n",
    "        Test.append(CSV.split('\\\\')[-1].split('.')[0])"
   ]
  },
  {
   "cell_type": "markdown",
   "id": "1f30211b",
   "metadata": {},
   "source": [
    "### 2. 거실<->식당"
   ]
  },
  {
   "cell_type": "code",
   "execution_count": 9,
   "id": "e0baf6fd",
   "metadata": {},
   "outputs": [],
   "source": [
    "#거실<->식당이 연결된 관계\n",
    "Test=[]\n",
    "for CSV in CSV_LIST:\n",
    "    df = pd.read_csv(CSV,index_col=None,usecols=[1,3,4,5])\n",
    "    FIND=df.loc[(df['Label'] == 1) & (df['Adj_Label']==20)]['ID_encode'].values\n",
    "    if len(FIND)==0:\n",
    "        Test.append(CSV.split('\\\\')[-1].split('.')[0])"
   ]
  },
  {
   "cell_type": "markdown",
   "id": "0c92111a",
   "metadata": {},
   "source": [
    "### 3. 거실-복도"
   ]
  },
  {
   "cell_type": "code",
   "execution_count": 15,
   "id": "2a08b054",
   "metadata": {},
   "outputs": [],
   "source": [
    "#거실-복도가 연결된 관계\n",
    "Test=[]\n",
    "for CSV in CSV_LIST:\n",
    "    df = pd.read_csv(CSV,index_col=None,usecols=[1,3,4,5])\n",
    "    FIND=df.loc[(df['Label'] == 1) & (df['Adj_Label']==8)]['ID_encode'].values\n",
    "    if len(FIND)!=0:\n",
    "        Test.append(CSV.split('\\\\')[-1].split('.')[0])"
   ]
  },
  {
   "cell_type": "markdown",
   "id": "9326c3a2",
   "metadata": {},
   "source": [
    "### 4. 거실-화장실"
   ]
  },
  {
   "cell_type": "code",
   "execution_count": 18,
   "id": "cbab109b",
   "metadata": {},
   "outputs": [],
   "source": [
    "#거실-화장실 연결된 관계\n",
    "Test=[]\n",
    "for CSV in CSV_LIST:\n",
    "    df = pd.read_csv(CSV,index_col=None,usecols=[1,3,4,5])\n",
    "    FIND=df.loc[(df['Label'] == 1) & (df['Adj_Label']==4)]['ID_encode'].values\n",
    "    if len(FIND)!=0:\n",
    "        Test.append(CSV.split('\\\\')[-1].split('.')[0])"
   ]
  },
  {
   "cell_type": "markdown",
   "id": "790f008a",
   "metadata": {},
   "source": [
    "### 5. 거실-방"
   ]
  },
  {
   "cell_type": "code",
   "execution_count": null,
   "id": "ce82cca3",
   "metadata": {},
   "outputs": [],
   "source": [
    "#거실-방 연결된 관계\n",
    "Test=[]\n",
    "for CSV in CSV_LIST:\n",
    "    df = pd.read_csv(CSV,index_col=None,usecols=[1,3,4,5])\n",
    "    FIND=df.loc[(df['Label'] == 1) & (df['Adj_Label']==2)]['ID_encode'].values\n",
    "    if len(FIND)!=0:\n",
    "        Test.append(CSV.split('\\\\')[-1].split('.')[0])"
   ]
  },
  {
   "cell_type": "markdown",
   "id": "eef30ec0",
   "metadata": {},
   "source": [
    "### 6. 거실-계단"
   ]
  },
  {
   "cell_type": "code",
   "execution_count": null,
   "id": "6aab812d",
   "metadata": {},
   "outputs": [],
   "source": [
    "#거실-계단 연결된 관계\n",
    "Test=[]\n",
    "for CSV in CSV_LIST:\n",
    "    df = pd.read_csv(CSV,index_col=None,usecols=[1,3,4,5])\n",
    "    FIND=df.loc[(df['Label'] == 1) & (df['Adj_Label']==7)]['ID_encode'].values\n",
    "    if len(FIND)!=0:\n",
    "        Test.append(CSV.split('\\\\')[-1].split('.')[0])"
   ]
  },
  {
   "cell_type": "markdown",
   "id": "88e2176a",
   "metadata": {},
   "source": [
    "### 7. 거실-주방"
   ]
  },
  {
   "cell_type": "code",
   "execution_count": null,
   "id": "8b7749b0",
   "metadata": {},
   "outputs": [],
   "source": [
    "#거실-주방 연결된 관계\n",
    "Test=[]\n",
    "for CSV in CSV_LIST:\n",
    "    df = pd.read_csv(CSV,index_col=None,usecols=[1,3,4,5])\n",
    "    FIND=df.loc[(df['Label'] == 1) & (df['Adj_Label']==3)]['ID_encode'].values\n",
    "    if len(FIND)!=0:\n",
    "        Test.append(CSV.split('\\\\')[-1].split('.')[0])"
   ]
  },
  {
   "cell_type": "markdown",
   "id": "35e94d0c",
   "metadata": {},
   "source": [
    "### 8. 거실-현관"
   ]
  },
  {
   "cell_type": "code",
   "execution_count": null,
   "id": "2d82f84d",
   "metadata": {},
   "outputs": [],
   "source": [
    "#거실-현관 연결된 관계\n",
    "Test=[]\n",
    "for CSV in CSV_LIST:\n",
    "    df = pd.read_csv(CSV,index_col=None,usecols=[1,3,4,5])\n",
    "    FIND=df.loc[(df['Label'] == 1) & (df['Adj_Label']==0)]['ID_encode'].values\n",
    "    if len(FIND)!=0:\n",
    "        Test.append(CSV.split('\\\\')[-1].split('.')[0])"
   ]
  },
  {
   "cell_type": "markdown",
   "id": "6551cce6",
   "metadata": {},
   "source": [
    "### 9. 거실-차고지"
   ]
  },
  {
   "cell_type": "code",
   "execution_count": null,
   "id": "0fecc15b",
   "metadata": {},
   "outputs": [],
   "source": [
    "#거실-차고지 연결된 관계\n",
    "Test=[]\n",
    "for CSV in CSV_LIST:\n",
    "    df = pd.read_csv(CSV,index_col=None,usecols=[1,3,4,5])\n",
    "    FIND=df.loc[(df['Label'] == 1) & (df['Adj_Label']==19)]['ID_encode'].values\n",
    "    if len(FIND)!=0:\n",
    "        Test.append(CSV.split('\\\\')[-1].split('.')[0])"
   ]
  },
  {
   "cell_type": "markdown",
   "id": "bd1a79cc",
   "metadata": {},
   "source": [
    "### 10. 거실-다용도실"
   ]
  },
  {
   "cell_type": "code",
   "execution_count": null,
   "id": "f6b34151",
   "metadata": {},
   "outputs": [],
   "source": [
    "#거실-다용도실 연결된 관계\n",
    "Test=[]\n",
    "for CSV in CSV_LIST:\n",
    "    df = pd.read_csv(CSV,index_col=None,usecols=[1,3,4,5])\n",
    "    FIND=df.loc[(df['Label'] == 1) & (df['Adj_Label']==6)]['ID_encode'].values\n",
    "    if len(FIND)!=0:\n",
    "        Test.append(CSV.split('\\\\')[-1].split('.')[0])"
   ]
  },
  {
   "cell_type": "markdown",
   "id": "4be357dc",
   "metadata": {},
   "source": [
    "# 주방"
   ]
  },
  {
   "cell_type": "markdown",
   "id": "564d8bf3",
   "metadata": {},
   "source": [
    "### 1. 식당 <-> 주방 - 거실"
   ]
  },
  {
   "cell_type": "code",
   "execution_count": 6,
   "id": "4d899242",
   "metadata": {},
   "outputs": [],
   "source": [
    "#식당<->주방-거실이 연결된 관계\n",
    "Test=[]\n",
    "for CSV in CSV_LIST:\n",
    "    df = pd.read_csv(CSV,index_col=None,usecols=[1,3,4,5])\n",
    "    FIND=df.loc[(df['Label'] == 3) & (df['Adj_Label']==1)]['ID_encode'].values\n",
    "    FIND1=df.loc[(df['Label'] == 20) & (df['Adj_Label']==3)]['Adj_ID_encode'].values\n",
    "    FIND2=df.loc[(df['Label'] == 20)]['Adj_ID_encode'].values\n",
    "    BOOL_FIND=np.setdiff1d(FIND, FIND1)\n",
    "    if (len(BOOL_FIND)!=0)&(len(FIND1)==0)&(len(FIND2)!=0):\n",
    "        Test.append(CSV.split('\\\\')[-1].split('.')[0])"
   ]
  },
  {
   "cell_type": "markdown",
   "id": "289500ef",
   "metadata": {},
   "source": [
    "### 2.주방<->식당"
   ]
  },
  {
   "cell_type": "code",
   "execution_count": null,
   "id": "62c69b78",
   "metadata": {},
   "outputs": [],
   "source": [
    "#주방<->식당이 연결된 관계\n",
    "Test=[]\n",
    "for CSV in CSV_LIST:\n",
    "    df = pd.read_csv(CSV,index_col=None,usecols=[1,3,4,5])\n",
    "    FIND=df.loc[(df['Label'] == 3) & (df['Adj_Label']==20)]['ID_encode'].values\n",
    "    if len(FIND)==0:\n",
    "        Test.append(CSV.split('\\\\')[-1].split('.')[0])"
   ]
  },
  {
   "cell_type": "markdown",
   "id": "41f27f57",
   "metadata": {},
   "source": [
    "### 3.주방-펜트리실"
   ]
  },
  {
   "cell_type": "code",
   "execution_count": null,
   "id": "115cfd53",
   "metadata": {},
   "outputs": [],
   "source": [
    "#주방-펜트리실 연결된 관계\n",
    "Test=[]\n",
    "for CSV in CSV_LIST:\n",
    "    df = pd.read_csv(CSV,index_col=None,usecols=[1,3,4,5])\n",
    "    FIND=df.loc[(df['Label'] == 3) & (df['Adj_Label']==9)]['ID_encode'].values\n",
    "    if len(FIND)!=0:\n",
    "        Test.append(CSV.split('\\\\')[-1].split('.')[0])"
   ]
  },
  {
   "cell_type": "markdown",
   "id": "40f87fe4",
   "metadata": {},
   "source": [
    "### 4.주방-차고지"
   ]
  },
  {
   "cell_type": "code",
   "execution_count": null,
   "id": "7b99321d",
   "metadata": {},
   "outputs": [],
   "source": [
    "#주방-차고지 연결된 관계\n",
    "Test=[]\n",
    "for CSV in CSV_LIST:\n",
    "    df = pd.read_csv(CSV,index_col=None,usecols=[1,3,4,5])\n",
    "    FIND=df.loc[(df['Label'] == 3) & (df['Adj_Label']==19)]['ID_encode'].values\n",
    "    if len(FIND)!=0:\n",
    "        Test.append(CSV.split('\\\\')[-1].split('.')[0])"
   ]
  },
  {
   "cell_type": "markdown",
   "id": "2dc1ca04",
   "metadata": {},
   "source": [
    "### 5.주방-복도"
   ]
  },
  {
   "cell_type": "code",
   "execution_count": null,
   "id": "37129fcf",
   "metadata": {},
   "outputs": [],
   "source": [
    "#주방-복도 연결된 관계\n",
    "Test=[]\n",
    "for CSV in CSV_LIST:\n",
    "    df = pd.read_csv(CSV,index_col=None,usecols=[1,3,4,5])\n",
    "    FIND=df.loc[(df['Label'] == 3) & (df['Adj_Label']==8)]['ID_encode'].values\n",
    "    if len(FIND)!=0:\n",
    "        Test.append(CSV.split('\\\\')[-1].split('.')[0])"
   ]
  },
  {
   "cell_type": "markdown",
   "id": "2a819887",
   "metadata": {},
   "source": [
    "### 6. 주방-붙박이실"
   ]
  },
  {
   "cell_type": "code",
   "execution_count": null,
   "id": "5fbefd67",
   "metadata": {},
   "outputs": [],
   "source": [
    "#주방-붙박이실 연결된 관계\n",
    "Test=[]\n",
    "for CSV in CSV_LIST:\n",
    "    df = pd.read_csv(CSV,index_col=None,usecols=[1,3,4,5])\n",
    "    FIND=df.loc[(df['Label'] == 3) & (df['Adj_Label']==11)]['ID_encode'].values\n",
    "    if len(FIND)!=0:\n",
    "        Test.append(CSV.split('\\\\')[-1].split('.')[0])"
   ]
  },
  {
   "cell_type": "markdown",
   "id": "eb75dc71",
   "metadata": {},
   "source": [
    "### 7.주방-다용도실"
   ]
  },
  {
   "cell_type": "code",
   "execution_count": null,
   "id": "69b87225",
   "metadata": {},
   "outputs": [],
   "source": [
    "#주방-다용도실 연결된 관계\n",
    "Test=[]\n",
    "for CSV in CSV_LIST:\n",
    "    df = pd.read_csv(CSV,index_col=None,usecols=[1,3,4,5])\n",
    "    FIND=df.loc[(df['Label'] == 3) & (df['Adj_Label']==6)]['ID_encode'].values\n",
    "    if len(FIND)!=0:\n",
    "        Test.append(CSV.split('\\\\')[-1].split('.')[0])"
   ]
  },
  {
   "cell_type": "markdown",
   "id": "1c2cda92",
   "metadata": {},
   "source": [
    "### 8.주방-포치"
   ]
  },
  {
   "cell_type": "code",
   "execution_count": null,
   "id": "f7830ada",
   "metadata": {},
   "outputs": [],
   "source": [
    "#주방-포치 연결된 관계\n",
    "Test=[]\n",
    "for CSV in CSV_LIST:\n",
    "    df = pd.read_csv(CSV,index_col=None,usecols=[1,3,4,5])\n",
    "    FIND=df.loc[(df['Label'] == 3) & (df['Adj_Label']==18)]['ID_encode'].values\n",
    "    if len(FIND)!=0:\n",
    "        Test.append(CSV.split('\\\\')[-1].split('.')[0])"
   ]
  },
  {
   "cell_type": "markdown",
   "id": "5f1a194f",
   "metadata": {},
   "source": [
    "### 9.주방-세탁실"
   ]
  },
  {
   "cell_type": "code",
   "execution_count": null,
   "id": "367d8837",
   "metadata": {},
   "outputs": [],
   "source": [
    "#주방-세탁실 연결된 관계\n",
    "Test=[]\n",
    "for CSV in CSV_LIST:\n",
    "    df = pd.read_csv(CSV,index_col=None,usecols=[1,3,4,5])\n",
    "    FIND=df.loc[(df['Label'] == 3) & (df['Adj_Label']==10)]['ID_encode'].values\n",
    "    if len(FIND)!=0:\n",
    "        Test.append(CSV.split('\\\\')[-1].split('.')[0])"
   ]
  },
  {
   "cell_type": "markdown",
   "id": "c2970f8d",
   "metadata": {},
   "source": [
    "### 10.주방-화장실"
   ]
  },
  {
   "cell_type": "code",
   "execution_count": null,
   "id": "836b9696",
   "metadata": {},
   "outputs": [],
   "source": [
    "#주방-화장실 연결된 관계\n",
    "Test=[]\n",
    "for CSV in CSV_LIST:\n",
    "    df = pd.read_csv(CSV,index_col=None,usecols=[1,3,4,5])\n",
    "    FIND=df.loc[(df['Label'] == 3) & (df['Adj_Label']==4)]['ID_encode'].values\n",
    "    if len(FIND)!=0:\n",
    "        Test.append(CSV.split('\\\\')[-1].split('.')[0])"
   ]
  },
  {
   "cell_type": "markdown",
   "id": "70c28340",
   "metadata": {},
   "source": [
    "# 식당"
   ]
  },
  {
   "cell_type": "markdown",
   "id": "656475c7",
   "metadata": {},
   "source": [
    "### 1.식당-복도"
   ]
  },
  {
   "cell_type": "code",
   "execution_count": null,
   "id": "86ae67fb",
   "metadata": {},
   "outputs": [],
   "source": [
    "#식당-복도 연결된 관계\n",
    "Test=[]\n",
    "for CSV in CSV_LIST:\n",
    "    df = pd.read_csv(CSV,index_col=None,usecols=[1,3,4,5])\n",
    "    FIND=df.loc[(df['Label'] == 20) & (df['Adj_Label']==8)]['ID_encode'].values\n",
    "    if len(FIND)!=0:\n",
    "        Test.append(CSV.split('\\\\')[-1].split('.')[0])"
   ]
  },
  {
   "cell_type": "markdown",
   "id": "cf60c697",
   "metadata": {},
   "source": [
    "### 2.식당-포치"
   ]
  },
  {
   "cell_type": "code",
   "execution_count": null,
   "id": "107dc925",
   "metadata": {},
   "outputs": [],
   "source": [
    "#식당-포치 연결된 관계\n",
    "Test=[]\n",
    "for CSV in CSV_LIST:\n",
    "    df = pd.read_csv(CSV,index_col=None,usecols=[1,3,4,5])\n",
    "    FIND=df.loc[(df['Label'] == 20) & (df['Adj_Label']==18)]['ID_encode'].values\n",
    "    if len(FIND)!=0:\n",
    "        Test.append(CSV.split('\\\\')[-1].split('.')[0])"
   ]
  },
  {
   "cell_type": "markdown",
   "id": "7bc6d6f5",
   "metadata": {},
   "source": [
    "### 3.식당-주방"
   ]
  },
  {
   "cell_type": "code",
   "execution_count": null,
   "id": "b19f1508",
   "metadata": {},
   "outputs": [],
   "source": [
    "#식당-주방 연결된 관계\n",
    "Test=[]\n",
    "for CSV in CSV_LIST:\n",
    "    df = pd.read_csv(CSV,index_col=None,usecols=[1,3,4,5])\n",
    "    FIND=df.loc[(df['Label'] == 20) & (df['Adj_Label']==3)]['ID_encode'].values\n",
    "    if len(FIND)!=0:\n",
    "        Test.append(CSV.split('\\\\')[-1].split('.')[0])"
   ]
  },
  {
   "cell_type": "markdown",
   "id": "16c41496",
   "metadata": {},
   "source": [
    "### 4.식당-주방-복도"
   ]
  },
  {
   "cell_type": "code",
   "execution_count": null,
   "id": "c172065a",
   "metadata": {},
   "outputs": [],
   "source": [
    "#식당-주방-복도이 연결된 관계\n",
    "Test=[]\n",
    "for CSV in CSV_LIST:\n",
    "    df = pd.read_csv(CSV,index_col=None,usecols=[1,3,4,5])\n",
    "    FIND=df.loc[(df['Label'] == 20) & (df['Adj_Label']==3)]['Adj_ID_encode'].values\n",
    "    FIND1=df.loc[(df['Label'] == 3) & (df['Adj_Label']==8)]['ID_encode'].values\n",
    "    BOOL_FIND=np.intersect1d(FIND, FIND1)\n",
    "    if len(BOOL_FIND)!=0:\n",
    "        Test.append(CSV.split('\\\\')[-1].split('.')[0])"
   ]
  },
  {
   "cell_type": "markdown",
   "id": "d67feb2c",
   "metadata": {},
   "source": [
    "### 5.식당-주방-거실"
   ]
  },
  {
   "cell_type": "code",
   "execution_count": null,
   "id": "543ee274",
   "metadata": {},
   "outputs": [],
   "source": [
    "#식당-주방-거실이 연결된 관계\n",
    "Test=[]\n",
    "for CSV in CSV_LIST:\n",
    "    df = pd.read_csv(CSV,index_col=None,usecols=[1,3,4,5])\n",
    "    FIND=df.loc[(df['Label'] == 20) & (df['Adj_Label']==3)]['Adj_ID_encode'].values\n",
    "    FIND1=df.loc[(df['Label'] == 3) & (df['Adj_Label']==1)]['ID_encode'].values\n",
    "    BOOL_FIND=np.intersect1d(FIND, FIND1)\n",
    "    if len(BOOL_FIND)!=0:\n",
    "        Test.append(CSV.split('\\\\')[-1].split('.')[0])"
   ]
  },
  {
   "cell_type": "markdown",
   "id": "9b87b899",
   "metadata": {},
   "source": [
    "### 6.복도-식당-주방-거실"
   ]
  },
  {
   "cell_type": "code",
   "execution_count": 34,
   "id": "5396eb34",
   "metadata": {},
   "outputs": [],
   "source": [
    "#복도-식당-주방-거실이 연결된 관계\n",
    "Test=[]\n",
    "for CSV in CSV_LIST:\n",
    "    df = pd.read_csv(CSV,index_col=None,usecols=[1,3,4,5])\n",
    "    FIND=df.loc[(df['Label'] == 8) & (df['Adj_Label']==20)]['Adj_ID_encode'].values #복도-식당\n",
    "    FIND1=df.loc[(df['Label'] == 20) & (df['Adj_Label']==3)]['ID_encode'].values #식당-주방\n",
    "    \n",
    "    FIND2=df.loc[(df['Label'] == 20) & (df['Adj_Label']==3)]['Adj_ID_encode'].values #식당-주방\n",
    "    FIND3=df.loc[(df['Label'] == 3) & (df['Adj_Label']==1)]['ID_encode'].values #주방-거실\n",
    "    \n",
    "    BOOL_FIND=np.intersect1d(FIND, FIND1)\n",
    "    BOOL_FIND1=np.intersect1d(FIND2, FIND3)\n",
    "    if (len(BOOL_FIND)!=0)&(len(BOOL_FIND1)!=0):\n",
    "        Test.append(CSV.split('\\\\')[-1].split('.')[0])"
   ]
  },
  {
   "cell_type": "markdown",
   "id": "60355c41",
   "metadata": {},
   "source": [
    "### 7.차고지-식당-주방-거실"
   ]
  },
  {
   "cell_type": "code",
   "execution_count": 37,
   "id": "2b9e2e54",
   "metadata": {},
   "outputs": [],
   "source": [
    "#차고지-식당-주방-거실이 연결된 관계\n",
    "Test=[]\n",
    "for CSV in CSV_LIST:\n",
    "    df = pd.read_csv(CSV,index_col=None,usecols=[1,3,4,5])\n",
    "    FIND=df.loc[(df['Label'] == 19) & (df['Adj_Label']==20)]['Adj_ID_encode'].values #차고지-식당\n",
    "    FIND1=df.loc[(df['Label'] == 20) & (df['Adj_Label']==3)]['ID_encode'].values #식당-주방\n",
    "    \n",
    "    FIND2=df.loc[(df['Label'] == 20) & (df['Adj_Label']==3)]['Adj_ID_encode'].values #식당-주방\n",
    "    FIND3=df.loc[(df['Label'] == 3) & (df['Adj_Label']==1)]['ID_encode'].values #주방-거실\n",
    "    \n",
    "    BOOL_FIND=np.intersect1d(FIND, FIND1)\n",
    "    BOOL_FIND1=np.intersect1d(FIND2, FIND3)\n",
    "    if (len(BOOL_FIND)!=0)&(len(BOOL_FIND1)!=0):\n",
    "        Test.append(CSV.split('\\\\')[-1].split('.')[0])"
   ]
  },
  {
   "cell_type": "markdown",
   "id": "c9801fce",
   "metadata": {},
   "source": [
    "### 8.식당-계단실"
   ]
  },
  {
   "cell_type": "code",
   "execution_count": null,
   "id": "48befdc7",
   "metadata": {},
   "outputs": [],
   "source": [
    "#식당-계단실 연결된 관계\n",
    "Test=[]\n",
    "for CSV in CSV_LIST:\n",
    "    df = pd.read_csv(CSV,index_col=None,usecols=[1,3,4,5])\n",
    "    FIND=df.loc[(df['Label'] == 20) & (df['Adj_Label']==7)]['ID_encode'].values\n",
    "    if len(FIND)!=0:\n",
    "        Test.append(CSV.split('\\\\')[-1].split('.')[0])"
   ]
  },
  {
   "cell_type": "markdown",
   "id": "bbc2aef5",
   "metadata": {},
   "source": [
    "### 9.식당-펜트리실"
   ]
  },
  {
   "cell_type": "code",
   "execution_count": null,
   "id": "c59b44a8",
   "metadata": {},
   "outputs": [],
   "source": [
    "#식당-팬트리실 연결된 관계\n",
    "Test=[]\n",
    "for CSV in CSV_LIST:\n",
    "    df = pd.read_csv(CSV,index_col=None,usecols=[1,3,4,5])\n",
    "    FIND=df.loc[(df['Label'] == 20) & (df['Adj_Label']==9)]['ID_encode'].values\n",
    "    if len(FIND)!=0:\n",
    "        Test.append(CSV.split('\\\\')[-1].split('.')[0])"
   ]
  },
  {
   "cell_type": "markdown",
   "id": "207c67b5",
   "metadata": {},
   "source": [
    "### 10.식당-주방-팬트리실"
   ]
  },
  {
   "cell_type": "code",
   "execution_count": null,
   "id": "f5cac8c9",
   "metadata": {},
   "outputs": [],
   "source": [
    "#식당-주방-팬트리실 연결된 관계\n",
    "Test=[]\n",
    "for CSV in CSV_LIST:\n",
    "    df = pd.read_csv(CSV,index_col=None,usecols=[1,3,4,5])\n",
    "    FIND=df.loc[(df['Label'] == 20) & (df['Adj_Label']==3)]['Adj_ID_encode'].values\n",
    "    FIND1=df.loc[(df['Label'] == 3) & (df['Adj_Label']==9)]['ID_encode'].values\n",
    "    BOOL_FIND=np.intersect1d(FIND, FIND1)\n",
    "    if len(BOOL_FIND)!=0:\n",
    "        Test.append(CSV.split('\\\\')[-1].split('.')[0])"
   ]
  },
  {
   "cell_type": "markdown",
   "id": "99cc2628",
   "metadata": {},
   "source": [
    "# 방"
   ]
  },
  {
   "cell_type": "markdown",
   "id": "8dfa0c62",
   "metadata": {},
   "source": [
    "### 1. 방-드레스룸"
   ]
  },
  {
   "cell_type": "code",
   "execution_count": null,
   "id": "0798984c",
   "metadata": {},
   "outputs": [],
   "source": [
    "#방-드레스룸 연결된 관계\n",
    "Test=[]\n",
    "for CSV in CSV_LIST:\n",
    "    df = pd.read_csv(CSV,index_col=None,usecols=[1,3,4,5])\n",
    "    FIND=df.loc[(df['Label'] == 2) & (df['Adj_Label']==5)]['ID_encode'].values\n",
    "    if len(FIND)!=0:\n",
    "        Test.append(CSV.split('\\\\')[-1].split('.')[0])"
   ]
  },
  {
   "cell_type": "markdown",
   "id": "5807b828",
   "metadata": {},
   "source": [
    "### 2. 방-드레스룸, 방-화장실"
   ]
  },
  {
   "cell_type": "code",
   "execution_count": null,
   "id": "e454c1f2",
   "metadata": {},
   "outputs": [],
   "source": [
    "#방-드레스룸,방-화장실 연결된 관계\n",
    "Test=[]\n",
    "for CSV in CSV_LIST:\n",
    "    df = pd.read_csv(CSV,index_col=None,usecols=[1,3,4,5])\n",
    "    FIND=df.loc[(df['Label'] == 2) & (df['Adj_Label']==5)]['ID_encode'].values\n",
    "    FIND1=df.loc[(df['Label'] == 2) & (df['Adj_Label']==4)]['ID_encode'].values\n",
    "    if (len(FIND1)!=0)&(len(FIND)!=0):\n",
    "            Test.append(CSV.split('\\\\')[-1].split('.')[0])"
   ]
  },
  {
   "cell_type": "markdown",
   "id": "abb0f766",
   "metadata": {},
   "source": [
    "### 3. 거실-방-드레스룸"
   ]
  },
  {
   "cell_type": "code",
   "execution_count": 20,
   "id": "0de21ddc",
   "metadata": {},
   "outputs": [],
   "source": [
    "#거실-방-드레스룸이 연결된 관계\n",
    "Test=[]\n",
    "for CSV in CSV_LIST:\n",
    "    df = pd.read_csv(CSV,index_col=None,usecols=[1,3,4,5])\n",
    "    FIND=df.loc[(df['Label'] == 8) & (df['Adj_Label']==2)]['Adj_ID_encode'].values\n",
    "    FIND1=df.loc[(df['Label'] == 2) & (df['Adj_Label']==5)]['ID_encode'].values\n",
    "    BOOL_FIND=np.intersect1d(FIND, FIND1)\n",
    "    if len(BOOL_FIND)!=0:\n",
    "        Test.append(CSV.split('\\\\')[-1].split('.')[0])"
   ]
  },
  {
   "cell_type": "markdown",
   "id": "98df50ff",
   "metadata": {},
   "source": [
    "### 4. 거실-방-화장실"
   ]
  },
  {
   "cell_type": "code",
   "execution_count": 15,
   "id": "ae25fc8f",
   "metadata": {},
   "outputs": [],
   "source": [
    "#거실-방-화장실 연결된 관계\n",
    "Test=[]\n",
    "for CSV in CSV_LIST:\n",
    "    df = pd.read_csv(CSV,index_col=None,usecols=[1,3,4,5])\n",
    "    FIND=df.loc[(df['Label'] == 1) & (df['Adj_Label']==2)]['Adj_ID_encode'].values\n",
    "    FIND1=df.loc[(df['Label'] == 2) & (df['Adj_Label']==4)]['ID_encode'].values\n",
    "    BOOL_FIND=np.intersect1d(FIND, FIND1)\n",
    "    if len(BOOL_FIND)!=0:\n",
    "        Test.append(CSV.split('\\\\')[-1].split('.')[0])"
   ]
  },
  {
   "cell_type": "markdown",
   "id": "64806220",
   "metadata": {},
   "source": [
    "### 5. 거실-방-붙박이장"
   ]
  },
  {
   "cell_type": "code",
   "execution_count": 25,
   "id": "9243a3ad",
   "metadata": {},
   "outputs": [],
   "source": [
    "Test=[]\n",
    "for CSV in CSV_LIST:\n",
    "    df = pd.read_csv(CSV,index_col=None,usecols=[1,3,4,5])\n",
    "    FIND=df.loc[(df['Label'] == 1) & (df['Adj_Label']==2)]['ID_encode'].values\n",
    "    FIND1=df.loc[(df['Label'] == 2) & (df['Adj_Label']==11)]['Adj_ID_encode'].values\n",
    "    BOOL_FIND=np.intersect1d(FIND, FIND1)\n",
    "    if len(BOOL_FIND)!=0:\n",
    "        Test.append(CSV.split('\\\\')[-1].split('.')[0])"
   ]
  },
  {
   "cell_type": "markdown",
   "id": "2bc8cc3e",
   "metadata": {},
   "source": [
    "### 6. 방-다용도실"
   ]
  },
  {
   "cell_type": "code",
   "execution_count": null,
   "id": "5dc33329",
   "metadata": {},
   "outputs": [],
   "source": [
    "#방-다용도실 연결된 관계\n",
    "Test=[]\n",
    "for CSV in CSV_LIST:\n",
    "    df = pd.read_csv(CSV,index_col=None,usecols=[1,3,4,5])\n",
    "    FIND=df.loc[(df['Label'] == 2) & (df['Adj_Label']==6)]['ID_encode'].values\n",
    "    if len(FIND)!=0:\n",
    "        Test.append(CSV.split('\\\\')[-1].split('.')[0])"
   ]
  },
  {
   "cell_type": "markdown",
   "id": "c20f3cb4",
   "metadata": {},
   "source": [
    "### 7. 방-계단"
   ]
  },
  {
   "cell_type": "code",
   "execution_count": null,
   "id": "6758d0af",
   "metadata": {},
   "outputs": [],
   "source": [
    "#방-계단 연결된 관계\n",
    "Test=[]\n",
    "for CSV in CSV_LIST:\n",
    "    df = pd.read_csv(CSV,index_col=None,usecols=[1,3,4,5])\n",
    "    FIND=df.loc[(df['Label'] == 2) & (df['Adj_Label']==7)]['ID_encode'].values\n",
    "    if len(FIND)!=0:\n",
    "        Test.append(CSV.split('\\\\')[-1].split('.')[0])"
   ]
  },
  {
   "cell_type": "markdown",
   "id": "45decd36",
   "metadata": {},
   "source": [
    "### 8. 방-화장실, 방-붙박이장"
   ]
  },
  {
   "cell_type": "code",
   "execution_count": null,
   "id": "0c677c2c",
   "metadata": {},
   "outputs": [],
   "source": [
    "#방-붙박이장,방-화장실 연결된 관계\n",
    "Test=[]\n",
    "for CSV in CSV_LIST:\n",
    "    df = pd.read_csv(CSV,index_col=None,usecols=[1,3,4,5])\n",
    "    FIND=df.loc[(df['Label'] == 2) & (df['Adj_Label']==11)]['ID_encode'].values\n",
    "    FIND1=df.loc[(df['Label'] == 2) & (df['Adj_Label']==4)]['ID_encode'].values\n",
    "    if (len(FIND1)!=0)&(len(FIND)!=0):\n",
    "            Test.append(CSV.split('\\\\')[-1].split('.')[0])"
   ]
  },
  {
   "cell_type": "markdown",
   "id": "f80891be",
   "metadata": {},
   "source": [
    "### 9. 방-드레스룸, 방-화장실, 방-복도"
   ]
  },
  {
   "cell_type": "code",
   "execution_count": null,
   "id": "078ab3e3",
   "metadata": {},
   "outputs": [],
   "source": [
    "#방-드레스룸,방-화장실,방-복도 연결된 관계\n",
    "Test=[]\n",
    "for CSV in CSV_LIST:\n",
    "    df = pd.read_csv(CSV,index_col=None,usecols=[1,3,4,5])\n",
    "    FIND=df.loc[(df['Label'] == 2) & (df['Adj_Label']==5)]['ID_encode'].values\n",
    "    FIND1=df.loc[(df['Label'] == 2) & (df['Adj_Label']==4)]['ID_encode'].values\n",
    "    FIND2=df.loc[(df['Label'] == 2) & (df['Adj_Label']==8)]['ID_encode'].values\n",
    "    if (len(FIND1)!=0)&(len(FIND)!=0)&(len(FIND2)!=0):\n",
    "            Test.append(CSV.split('\\\\')[-1].split('.')[0])"
   ]
  },
  {
   "cell_type": "markdown",
   "id": "2173a510",
   "metadata": {},
   "source": [
    "### 10. 방-붙박이장"
   ]
  },
  {
   "cell_type": "code",
   "execution_count": null,
   "id": "af29dbd8",
   "metadata": {},
   "outputs": [],
   "source": [
    "#방-붙박이장 연결된 관계\n",
    "Test=[]\n",
    "for CSV in CSV_LIST:\n",
    "    df = pd.read_csv(CSV,index_col=None,usecols=[1,3,4,5])\n",
    "    FIND=df.loc[(df['Label'] == 2) & (df['Adj_Label']==11)]['ID_encode'].values\n",
    "    if len(FIND)!=0:\n",
    "        Test.append(CSV.split('\\\\')[-1].split('.')[0])"
   ]
  },
  {
   "cell_type": "markdown",
   "id": "6f43891e",
   "metadata": {},
   "source": [
    "# 화장실"
   ]
  },
  {
   "cell_type": "markdown",
   "id": "fbd235df",
   "metadata": {},
   "source": [
    "### 1.화장실-복도"
   ]
  },
  {
   "cell_type": "code",
   "execution_count": null,
   "id": "bfc7ea3d",
   "metadata": {},
   "outputs": [],
   "source": [
    "#화장실-복도 연결된 관계\n",
    "Test=[]\n",
    "for CSV in CSV_LIST:\n",
    "    df = pd.read_csv(CSV,index_col=None,usecols=[1,3,4,5])\n",
    "    FIND=df.loc[(df['Label'] == 4) & (df['Adj_Label']==8)]['ID_encode'].values\n",
    "    if len(FIND)!=0:\n",
    "        Test.append(CSV.split('\\\\')[-1].split('.')[0])"
   ]
  },
  {
   "cell_type": "markdown",
   "id": "bf3957cb",
   "metadata": {},
   "source": [
    "### 2.화장실-방"
   ]
  },
  {
   "cell_type": "code",
   "execution_count": null,
   "id": "ea4be5ea",
   "metadata": {},
   "outputs": [],
   "source": [
    "#화장실-방 연결된 관계\n",
    "Test=[]\n",
    "for CSV in CSV_LIST:\n",
    "    df = pd.read_csv(CSV,index_col=None,usecols=[1,3,4,5])\n",
    "    FIND=df.loc[(df['Label'] == 4) & (df['Adj_Label']==2)]['ID_encode'].values\n",
    "    if len(FIND)!=0:\n",
    "        Test.append(CSV.split('\\\\')[-1].split('.')[0])"
   ]
  },
  {
   "cell_type": "markdown",
   "id": "0bbabde5",
   "metadata": {},
   "source": [
    "### 3.화장실-다용도실"
   ]
  },
  {
   "cell_type": "code",
   "execution_count": null,
   "id": "5a9e880f",
   "metadata": {},
   "outputs": [],
   "source": [
    "#화장실-다용도실 연결된 관계\n",
    "Test=[]\n",
    "for CSV in CSV_LIST:\n",
    "    df = pd.read_csv(CSV,index_col=None,usecols=[1,3,4,5])\n",
    "    FIND=df.loc[(df['Label'] == 4) & (df['Adj_Label']==6)]['ID_encode'].values\n",
    "    if len(FIND)!=0:\n",
    "        Test.append(CSV.split('\\\\')[-1].split('.')[0])"
   ]
  },
  {
   "cell_type": "markdown",
   "id": "43531786",
   "metadata": {},
   "source": [
    "### 4.화장실-드레스룸"
   ]
  },
  {
   "cell_type": "code",
   "execution_count": null,
   "id": "918b402f",
   "metadata": {},
   "outputs": [],
   "source": [
    "#화장실-드레스룸 연결된 관계\n",
    "Test=[]\n",
    "for CSV in CSV_LIST:\n",
    "    df = pd.read_csv(CSV,index_col=None,usecols=[1,3,4,5])\n",
    "    FIND=df.loc[(df['Label'] == 4) & (df['Adj_Label']==5)]['ID_encode'].values\n",
    "    if len(FIND)!=0:\n",
    "        Test.append(CSV.split('\\\\')[-1].split('.')[0])"
   ]
  },
  {
   "cell_type": "markdown",
   "id": "440306f6",
   "metadata": {},
   "source": [
    "### 7.방-화장실-드레스룸"
   ]
  },
  {
   "cell_type": "code",
   "execution_count": null,
   "id": "68f0e811",
   "metadata": {},
   "outputs": [],
   "source": [
    "#방-화장실-드레스룸 연결된 관계\n",
    "Test=[]\n",
    "for CSV in CSV_LIST:\n",
    "    df = pd.read_csv(CSV,index_col=None,usecols=[1,3,4,5])\n",
    "    FIND=df.loc[(df['Label'] == 2) & (df['Adj_Label']==4)]['Adj_ID_encode'].values\n",
    "    FIND1=df.loc[(df['Label'] == 4) & (df['Adj_Label']==5)]['ID_encode'].values\n",
    "    BOOL_FIND=np.intersect1d(FIND, FIND1)\n",
    "    if len(BOOL_FIND)!=0:\n",
    "        Test.append(CSV.split('\\\\')[-1].split('.')[0])"
   ]
  },
  {
   "cell_type": "markdown",
   "id": "5357d580",
   "metadata": {},
   "source": [
    "### 8.복도-방-화장실"
   ]
  },
  {
   "cell_type": "code",
   "execution_count": null,
   "id": "dc8ed021",
   "metadata": {},
   "outputs": [],
   "source": [
    "#복도-방-화장실 연결된 관계\n",
    "Test=[]\n",
    "for CSV in CSV_LIST:\n",
    "    df = pd.read_csv(CSV,index_col=None,usecols=[1,3,4,5])\n",
    "    FIND=df.loc[(df['Label'] == 8) & (df['Adj_Label']==2)]['Adj_ID_encode'].values\n",
    "    FIND1=df.loc[(df['Label'] == 2) & (df['Adj_Label']==4)]['ID_encode'].values\n",
    "    BOOL_FIND=np.intersect1d(FIND, FIND1)\n",
    "    if len(BOOL_FIND)!=0:\n",
    "        Test.append(CSV.split('\\\\')[-1].split('.')[0])"
   ]
  },
  {
   "cell_type": "markdown",
   "id": "830904d2",
   "metadata": {},
   "source": [
    "### 9.거실-화장실-복도"
   ]
  },
  {
   "cell_type": "code",
   "execution_count": null,
   "id": "e073eacd",
   "metadata": {},
   "outputs": [],
   "source": [
    "#거실-화장실-복도 연결된 관계\n",
    "Test=[]\n",
    "for CSV in CSV_LIST:\n",
    "    df = pd.read_csv(CSV,index_col=None,usecols=[1,3,4,5])\n",
    "    FIND=df.loc[(df['Label'] == 1) & (df['Adj_Label']==4)]['Adj_ID_encode'].values\n",
    "    FIND1=df.loc[(df['Label'] == 4) & (df['Adj_Label']==8)]['ID_encode'].values\n",
    "    BOOL_FIND=np.intersect1d(FIND, FIND1)\n",
    "    if len(BOOL_FIND)!=0:\n",
    "        Test.append(CSV.split('\\\\')[-1].split('.')[0])"
   ]
  },
  {
   "cell_type": "markdown",
   "id": "3658039c",
   "metadata": {},
   "source": [
    "### 10.차고지-화장실"
   ]
  },
  {
   "cell_type": "code",
   "execution_count": null,
   "id": "d336507f",
   "metadata": {},
   "outputs": [],
   "source": [
    "#차고지-화장실 연결된 관계\n",
    "Test=[]\n",
    "for CSV in CSV_LIST:\n",
    "    df = pd.read_csv(CSV,index_col=None,usecols=[1,3,4,5])\n",
    "    FIND=df.loc[(df['Label'] == 19) & (df['Adj_Label']==4)]['ID_encode'].values\n",
    "    if len(FIND)!=0:\n",
    "        Test.append(CSV.split('\\\\')[-1].split('.')[0])"
   ]
  },
  {
   "cell_type": "markdown",
   "id": "6aa4bb7d",
   "metadata": {},
   "source": [
    "# 복도"
   ]
  },
  {
   "cell_type": "markdown",
   "id": "72d3604e",
   "metadata": {},
   "source": [
    "### 1.복도-방"
   ]
  },
  {
   "cell_type": "code",
   "execution_count": 43,
   "id": "46cf18cb",
   "metadata": {},
   "outputs": [],
   "source": [
    "#복도-방 연결된 관계\n",
    "Test=[]\n",
    "for CSV in CSV_LIST:\n",
    "    df = pd.read_csv(CSV,index_col=None,usecols=[1,3,4,5])\n",
    "    FIND=df.loc[(df['Label'] == 8) & (df['Adj_Label']==2)]['ID_encode'].values\n",
    "    if len(FIND)!=0:\n",
    "        Test.append(CSV.split('\\\\')[-1].split('.')[0])"
   ]
  },
  {
   "cell_type": "markdown",
   "id": "da798cfe",
   "metadata": {},
   "source": [
    "### 2.복도-붙박이장"
   ]
  },
  {
   "cell_type": "code",
   "execution_count": null,
   "id": "a7eca0d4",
   "metadata": {},
   "outputs": [],
   "source": [
    "#복도-붙박이장 연결된 관계\n",
    "Test=[]\n",
    "for CSV in CSV_LIST:\n",
    "    df = pd.read_csv(CSV,index_col=None,usecols=[1,3,4,5])\n",
    "    FIND=df.loc[(df['Label'] == 8) & (df['Adj_Label']==11)]['ID_encode'].values\n",
    "    if len(FIND)!=0:\n",
    "        Test.append(CSV.split('\\\\')[-1].split('.')[0])"
   ]
  },
  {
   "cell_type": "markdown",
   "id": "9ddf5cdb",
   "metadata": {},
   "source": [
    "### 3.복도-방-붙박이장"
   ]
  },
  {
   "cell_type": "code",
   "execution_count": null,
   "id": "70a03d74",
   "metadata": {},
   "outputs": [],
   "source": [
    "#복도-방-붙박이장 연결된 관계\n",
    "Test=[]\n",
    "for CSV in CSV_LIST:\n",
    "    df = pd.read_csv(CSV,index_col=None,usecols=[1,3,4,5])\n",
    "    FIND=df.loc[(df['Label'] == 8) & (df['Adj_Label']==2)]['Adj_ID_encode'].values\n",
    "    FIND1=df.loc[(df['Label'] == 2) & (df['Adj_Label']==11)]['ID_encode'].values\n",
    "    BOOL_FIND=np.intersect1d(FIND, FIND1)\n",
    "    if len(BOOL_FIND)!=0:\n",
    "        Test.append(CSV.split('\\\\')[-1].split('.')[0])"
   ]
  },
  {
   "cell_type": "markdown",
   "id": "9f402af6",
   "metadata": {},
   "source": [
    "### 4.거실-복도-차고지"
   ]
  },
  {
   "cell_type": "code",
   "execution_count": null,
   "id": "f23d3411",
   "metadata": {},
   "outputs": [],
   "source": [
    "#거실-복도-차고지 연결된 관계\n",
    "Test=[]\n",
    "for CSV in CSV_LIST:\n",
    "    df = pd.read_csv(CSV,index_col=None,usecols=[1,3,4,5])\n",
    "    FIND=df.loc[(df['Label'] == 1) & (df['Adj_Label']==8)]['Adj_ID_encode'].values\n",
    "    FIND1=df.loc[(df['Label'] == 8) & (df['Adj_Label']==19)]['ID_encode'].values\n",
    "    BOOL_FIND=np.intersect1d(FIND, FIND1)\n",
    "    if len(BOOL_FIND)!=0:\n",
    "        Test.append(CSV.split('\\\\')[-1].split('.')[0])"
   ]
  },
  {
   "cell_type": "markdown",
   "id": "8cbc9624",
   "metadata": {},
   "source": [
    "### 5.복도-계단"
   ]
  },
  {
   "cell_type": "code",
   "execution_count": null,
   "id": "fea60b4d",
   "metadata": {},
   "outputs": [],
   "source": [
    "#복도-계단 연결된 관계\n",
    "Test=[]\n",
    "for CSV in CSV_LIST:\n",
    "    df = pd.read_csv(CSV,index_col=None,usecols=[1,3,4,5])\n",
    "    FIND=df.loc[(df['Label'] == 8) & (df['Adj_Label']==7)]['ID_encode'].values\n",
    "    if len(FIND)!=0:\n",
    "        Test.append(CSV.split('\\\\')[-1].split('.')[0])"
   ]
  },
  {
   "cell_type": "markdown",
   "id": "3321b1ef",
   "metadata": {},
   "source": [
    "### 6.복도-다용도실"
   ]
  },
  {
   "cell_type": "code",
   "execution_count": null,
   "id": "bf1e34d0",
   "metadata": {},
   "outputs": [],
   "source": [
    "#복도-다용도실 연결된 관계\n",
    "Test=[]\n",
    "for CSV in CSV_LIST:\n",
    "    df = pd.read_csv(CSV,index_col=None,usecols=[1,3,4,5])\n",
    "    FIND=df.loc[(df['Label'] == 8) & (df['Adj_Label']==6)]['ID_encode'].values\n",
    "    if len(FIND)!=0:\n",
    "        Test.append(CSV.split('\\\\')[-1].split('.')[0])"
   ]
  },
  {
   "cell_type": "markdown",
   "id": "9285a2db",
   "metadata": {},
   "source": [
    "### 7.복도-현관"
   ]
  },
  {
   "cell_type": "code",
   "execution_count": null,
   "id": "cbba5dc4",
   "metadata": {},
   "outputs": [],
   "source": [
    "#복도-현관 연결된 관계\n",
    "Test=[]\n",
    "for CSV in CSV_LIST:\n",
    "    df = pd.read_csv(CSV,index_col=None,usecols=[1,3,4,5])\n",
    "    FIND=df.loc[(df['Label'] == 8) & (df['Adj_Label']==0)]['ID_encode'].values\n",
    "    if len(FIND)!=0:\n",
    "        Test.append(CSV.split('\\\\')[-1].split('.')[0])"
   ]
  },
  {
   "cell_type": "markdown",
   "id": "8bd92738",
   "metadata": {},
   "source": [
    "### 8.복도-복도"
   ]
  },
  {
   "cell_type": "code",
   "execution_count": null,
   "id": "489ce493",
   "metadata": {},
   "outputs": [],
   "source": [
    "#복도-복도 연결된 관계\n",
    "Test=[]\n",
    "for CSV in CSV_LIST:\n",
    "    df = pd.read_csv(CSV,index_col=None,usecols=[1,3,4,5])\n",
    "    FIND=df.loc[(df['Label'] == 8) & (df['Adj_Label']==8)]['ID_encode'].values\n",
    "    if len(FIND)!=0:\n",
    "        Test.append(CSV.split('\\\\')[-1].split('.')[0])"
   ]
  },
  {
   "cell_type": "markdown",
   "id": "09b0accd",
   "metadata": {},
   "source": [
    "### 9.복도-방-드레스룸"
   ]
  },
  {
   "cell_type": "code",
   "execution_count": null,
   "id": "bee63798",
   "metadata": {},
   "outputs": [],
   "source": [
    "#복도-방-드레스룸 연결된 관계\n",
    "Test=[]\n",
    "for CSV in CSV_LIST:\n",
    "    df = pd.read_csv(CSV,index_col=None,usecols=[1,3,4,5])\n",
    "    FIND=df.loc[(df['Label'] == 8) & (df['Adj_Label']==2)]['Adj_ID_encode'].values\n",
    "    FIND1=df.loc[(df['Label'] == 2) & (df['Adj_Label']==5)]['ID_encode'].values\n",
    "    BOOL_FIND=np.intersect1d(FIND, FIND1)\n",
    "    if len(BOOL_FIND)!=0:\n",
    "        Test.append(CSV.split('\\\\')[-1].split('.')[0])"
   ]
  },
  {
   "cell_type": "markdown",
   "id": "da318bd7",
   "metadata": {},
   "source": [
    "### 10.복도-세탁실"
   ]
  },
  {
   "cell_type": "code",
   "execution_count": null,
   "id": "2ec8e2b7",
   "metadata": {},
   "outputs": [],
   "source": [
    "#복도-세탁실 연결된 관계\n",
    "Test=[]\n",
    "for CSV in CSV_LIST:\n",
    "    df = pd.read_csv(CSV,index_col=None,usecols=[1,3,4,5])\n",
    "    FIND=df.loc[(df['Label'] == 8) & (df['Adj_Label']==10)]['ID_encode'].values\n",
    "    if len(FIND)!=0:\n",
    "        Test.append(CSV.split('\\\\')[-1].split('.')[0])"
   ]
  },
  {
   "cell_type": "markdown",
   "id": "a36b9504",
   "metadata": {},
   "source": [
    "# 현관"
   ]
  },
  {
   "cell_type": "markdown",
   "id": "da737d0c",
   "metadata": {},
   "source": [
    "### 1.현관-방"
   ]
  },
  {
   "cell_type": "code",
   "execution_count": null,
   "id": "8c9c3c98",
   "metadata": {},
   "outputs": [],
   "source": [
    "#현관-방 연결된 관계\n",
    "Test=[]\n",
    "for CSV in CSV_LIST:\n",
    "    df = pd.read_csv(CSV,index_col=None,usecols=[1,3,4,5])\n",
    "    FIND=df.loc[(df['Label'] == 0) & (df['Adj_Label']==2)]['ID_encode'].values\n",
    "    if len(FIND)!=0:\n",
    "        Test.append(CSV.split('\\\\')[-1].split('.')[0])"
   ]
  },
  {
   "cell_type": "markdown",
   "id": "1d1ec7f6",
   "metadata": {},
   "source": [
    "### 2.현관-붙박이장"
   ]
  },
  {
   "cell_type": "code",
   "execution_count": null,
   "id": "6b72d3f8",
   "metadata": {},
   "outputs": [],
   "source": [
    "#현관-붙박이장 연결된 관계\n",
    "Test=[]\n",
    "for CSV in CSV_LIST:\n",
    "    df = pd.read_csv(CSV,index_col=None,usecols=[1,3,4,5])\n",
    "    FIND=df.loc[(df['Label'] == 0) & (df['Adj_Label']==11)]['ID_encode'].values\n",
    "    if len(FIND)!=0:\n",
    "        Test.append(CSV.split('\\\\')[-1].split('.')[0])"
   ]
  },
  {
   "cell_type": "markdown",
   "id": "adea54c3",
   "metadata": {},
   "source": [
    "### 3.현관-복도-거실"
   ]
  },
  {
   "cell_type": "code",
   "execution_count": null,
   "id": "b9c5751d",
   "metadata": {},
   "outputs": [],
   "source": [
    "#현관-복도-거실 연결된 관계\n",
    "Test=[]\n",
    "for CSV in CSV_LIST:\n",
    "    df = pd.read_csv(CSV,index_col=None,usecols=[1,3,4,5])\n",
    "    FIND=df.loc[(df['Label'] == 0) & (df['Adj_Label']==8)]['Adj_ID_encode'].values\n",
    "    FIND1=df.loc[(df['Label'] == 8) & (df['Adj_Label']==1)]['ID_encode'].values\n",
    "    BOOL_FIND=np.intersect1d(FIND, FIND1)\n",
    "    if len(BOOL_FIND)!=0:\n",
    "        Test.append(CSV.split('\\\\')[-1].split('.')[0])"
   ]
  },
  {
   "cell_type": "markdown",
   "id": "5a746ecb",
   "metadata": {},
   "source": [
    "### 4.현관-포치"
   ]
  },
  {
   "cell_type": "code",
   "execution_count": null,
   "id": "d8ab523c",
   "metadata": {},
   "outputs": [],
   "source": [
    "#현관-방 연결된 관계\n",
    "Test=[]\n",
    "for CSV in CSV_LIST:\n",
    "    df = pd.read_csv(CSV,index_col=None,usecols=[1,3,4,5])\n",
    "    FIND=df.loc[(df['Label'] == 0) & (df['Adj_Label']==18)]['ID_encode'].values\n",
    "    if len(FIND)!=0:\n",
    "        Test.append(CSV.split('\\\\')[-1].split('.')[0])"
   ]
  },
  {
   "cell_type": "markdown",
   "id": "03a7f9ee",
   "metadata": {},
   "source": [
    "### 5.현관-차고지"
   ]
  },
  {
   "cell_type": "code",
   "execution_count": null,
   "id": "eba6c204",
   "metadata": {},
   "outputs": [],
   "source": [
    "#현관-방 연결된 관계\n",
    "Test=[]\n",
    "for CSV in CSV_LIST:\n",
    "    df = pd.read_csv(CSV,index_col=None,usecols=[1,3,4,5])\n",
    "    FIND=df.loc[(df['Label'] == 0) & (df['Adj_Label']==19)]['ID_encode'].values\n",
    "    if len(FIND)!=0:\n",
    "        Test.append(CSV.split('\\\\')[-1].split('.')[0])"
   ]
  },
  {
   "cell_type": "markdown",
   "id": "0a271203",
   "metadata": {},
   "source": [
    "### 6.포치-복도-현관"
   ]
  },
  {
   "cell_type": "code",
   "execution_count": null,
   "id": "b4971d0f",
   "metadata": {},
   "outputs": [],
   "source": [
    "#포치-복도-현관 연결된 관계\n",
    "Test=[]\n",
    "for CSV in CSV_LIST:\n",
    "    df = pd.read_csv(CSV,index_col=None,usecols=[1,3,4,5])\n",
    "    FIND=df.loc[(df['Label'] == 18) & (df['Adj_Label']==8)]['Adj_ID_encode'].values\n",
    "    FIND1=df.loc[(df['Label'] == 8) & (df['Adj_Label']==0)]['ID_encode'].values\n",
    "    BOOL_FIND=np.intersect1d(FIND, FIND1)\n",
    "    if len(BOOL_FIND)!=0:\n",
    "        Test.append(CSV.split('\\\\')[-1].split('.')[0])"
   ]
  },
  {
   "cell_type": "markdown",
   "id": "c6c65e98",
   "metadata": {},
   "source": [
    "### 7.현관-방-붙박이장"
   ]
  },
  {
   "cell_type": "code",
   "execution_count": null,
   "id": "af944e6d",
   "metadata": {},
   "outputs": [],
   "source": [
    "#현관-방-붙박이장 연결된 관계\n",
    "Test=[]\n",
    "for CSV in CSV_LIST:\n",
    "    df = pd.read_csv(CSV,index_col=None,usecols=[1,3,4,5])\n",
    "    FIND=df.loc[(df['Label'] == 0) & (df['Adj_Label']==2)]['Adj_ID_encode'].values\n",
    "    FIND1=df.loc[(df['Label'] == 2) & (df['Adj_Label']==11)]['ID_encode'].values\n",
    "    BOOL_FIND=np.intersect1d(FIND, FIND1)\n",
    "    if len(BOOL_FIND)!=0:\n",
    "        Test.append(CSV.split('\\\\')[-1].split('.')[0])"
   ]
  },
  {
   "cell_type": "markdown",
   "id": "880f63dd",
   "metadata": {},
   "source": [
    "### 8.현관-방-드레스룸"
   ]
  },
  {
   "cell_type": "code",
   "execution_count": null,
   "id": "ae256a1a",
   "metadata": {},
   "outputs": [],
   "source": [
    "#현관-방-드레스룸 연결된 관계\n",
    "Test=[]\n",
    "for CSV in CSV_LIST:\n",
    "    df = pd.read_csv(CSV,index_col=None,usecols=[1,3,4,5])\n",
    "    FIND=df.loc[(df['Label'] == 0) & (df['Adj_Label']==8)]['Adj_ID_encode'].values\n",
    "    FIND1=df.loc[(df['Label'] == 8) & (df['Adj_Label']==5)]['ID_encode'].values\n",
    "    BOOL_FIND=np.intersect1d(FIND, FIND1)\n",
    "    if len(BOOL_FIND)!=0:\n",
    "        Test.append(CSV.split('\\\\')[-1].split('.')[0])"
   ]
  },
  {
   "cell_type": "markdown",
   "id": "c10fb9cf",
   "metadata": {},
   "source": [
    "### 9.현관-방-화장실-드레스룸"
   ]
  },
  {
   "cell_type": "code",
   "execution_count": null,
   "id": "a5864149",
   "metadata": {},
   "outputs": [],
   "source": [
    "#현관-방-화장실-드레스룸이 연결된 관계\n",
    "Test=[]\n",
    "for CSV in CSV_LIST:\n",
    "    df = pd.read_csv(CSV,index_col=None,usecols=[1,3,4,5])\n",
    "    FIND=df.loc[(df['Label'] == 0) & (df['Adj_Label']==2)]['Adj_ID_encode'].values #현관-방\n",
    "    FIND1=df.loc[(df['Label'] == 2) & (df['Adj_Label']==4)]['ID_encode'].values #방-화장실\n",
    "    \n",
    "    FIND2=df.loc[(df['Label'] == 2) & (df['Adj_Label']==4)]['Adj_ID_encode'].values #방-화장실\n",
    "    FIND3=df.loc[(df['Label'] == 4) & (df['Adj_Label']==5)]['ID_encode'].values #화장실-드레스룸\n",
    "    \n",
    "    BOOL_FIND=np.intersect1d(FIND, FIND1)\n",
    "    BOOL_FIND1=np.intersect1d(FIND2, FIND3)\n",
    "    if (len(BOOL_FIND)!=0)&(len(BOOL_FIND1)!=0):\n",
    "        Test.append(CSV.split('\\\\')[-1].split('.')[0])"
   ]
  },
  {
   "cell_type": "markdown",
   "id": "87124075",
   "metadata": {},
   "source": [
    "### 10.현관-복도-주방"
   ]
  },
  {
   "cell_type": "code",
   "execution_count": null,
   "id": "f5d928cc",
   "metadata": {},
   "outputs": [],
   "source": [
    "#현관-복도-주방 연결된 관계\n",
    "Test=[]\n",
    "for CSV in CSV_LIST:\n",
    "    df = pd.read_csv(CSV,index_col=None,usecols=[1,3,4,5])\n",
    "    FIND=df.loc[(df['Label'] == 0) & (df['Adj_Label']==8)]['Adj_ID_encode'].values\n",
    "    FIND1=df.loc[(df['Label'] == 8) & (df['Adj_Label']==3)]['ID_encode'].values\n",
    "    BOOL_FIND=np.intersect1d(FIND, FIND1)\n",
    "    if len(BOOL_FIND)!=0:\n",
    "        Test.append(CSV.split('\\\\')[-1].split('.')[0])"
   ]
  },
  {
   "cell_type": "markdown",
   "id": "48e6deaa",
   "metadata": {},
   "source": [
    "# 계단"
   ]
  },
  {
   "cell_type": "markdown",
   "id": "e9db07f7",
   "metadata": {},
   "source": [
    "### 1.계단-현관"
   ]
  },
  {
   "cell_type": "code",
   "execution_count": null,
   "id": "fd55138a",
   "metadata": {},
   "outputs": [],
   "source": [
    "#계단-현관 연결된 관계\n",
    "Test=[]\n",
    "for CSV in CSV_LIST:\n",
    "    df = pd.read_csv(CSV,index_col=None,usecols=[1,3,4,5])\n",
    "    FIND=df.loc[(df['Label'] == 7) & (df['Adj_Label']==0)]['ID_encode'].values\n",
    "    if len(FIND)!=0:\n",
    "        Test.append(CSV.split('\\\\')[-1].split('.')[0])"
   ]
  },
  {
   "cell_type": "markdown",
   "id": "7f5a9f19",
   "metadata": {},
   "source": [
    "### 2.계단-식당"
   ]
  },
  {
   "cell_type": "code",
   "execution_count": null,
   "id": "197e515f",
   "metadata": {},
   "outputs": [],
   "source": [
    "#계단-식당 연결된 관계\n",
    "Test=[]\n",
    "for CSV in CSV_LIST:\n",
    "    df = pd.read_csv(CSV,index_col=None,usecols=[1,3,4,5])\n",
    "    FIND=df.loc[(df['Label'] == 7) & (df['Adj_Label']==20)]['ID_encode'].values\n",
    "    if len(FIND)!=0:\n",
    "        Test.append(CSV.split('\\\\')[-1].split('.')[0])"
   ]
  },
  {
   "cell_type": "markdown",
   "id": "2bd105aa",
   "metadata": {},
   "source": [
    "### 3.계단-주방"
   ]
  },
  {
   "cell_type": "code",
   "execution_count": null,
   "id": "028acc3b",
   "metadata": {},
   "outputs": [],
   "source": [
    "#계단-주방 연결된 관계\n",
    "Test=[]\n",
    "for CSV in CSV_LIST:\n",
    "    df = pd.read_csv(CSV,index_col=None,usecols=[1,3,4,5])\n",
    "    FIND=df.loc[(df['Label'] == 7) & (df['Adj_Label']==3)]['ID_encode'].values\n",
    "    if len(FIND)!=0:\n",
    "        Test.append(CSV.split('\\\\')[-1].split('.')[0])"
   ]
  },
  {
   "cell_type": "markdown",
   "id": "686bae4c",
   "metadata": {},
   "source": [
    "### 4.계단-다용도실"
   ]
  },
  {
   "cell_type": "code",
   "execution_count": null,
   "id": "0877e27f",
   "metadata": {},
   "outputs": [],
   "source": [
    "#계단-다용도실 연결된 관계\n",
    "Test=[]\n",
    "for CSV in CSV_LIST:\n",
    "    df = pd.read_csv(CSV,index_col=None,usecols=[1,3,4,5])\n",
    "    FIND=df.loc[(df['Label'] == 7) & (df['Adj_Label']==6)]['ID_encode'].values\n",
    "    if len(FIND)!=0:\n",
    "        Test.append(CSV.split('\\\\')[-1].split('.')[0])"
   ]
  },
  {
   "cell_type": "markdown",
   "id": "94794ae2",
   "metadata": {},
   "source": [
    "### 5.계단-화장실"
   ]
  },
  {
   "cell_type": "code",
   "execution_count": null,
   "id": "051e39f7",
   "metadata": {},
   "outputs": [],
   "source": [
    "#계단-화장실 연결된 관계\n",
    "Test=[]\n",
    "for CSV in CSV_LIST:\n",
    "    df = pd.read_csv(CSV,index_col=None,usecols=[1,3,4,5])\n",
    "    FIND=df.loc[(df['Label'] == 7) & (df['Adj_Label']==4)]['ID_encode'].values\n",
    "    if len(FIND)!=0:\n",
    "        Test.append(CSV.split('\\\\')[-1].split('.')[0])"
   ]
  },
  {
   "cell_type": "markdown",
   "id": "3eb80257",
   "metadata": {},
   "source": [
    "### 6.계단-현관-포치"
   ]
  },
  {
   "cell_type": "code",
   "execution_count": null,
   "id": "bd926083",
   "metadata": {},
   "outputs": [],
   "source": [
    "#계딴-현관-포치 연결된 관계\n",
    "Test=[]\n",
    "for CSV in CSV_LIST:\n",
    "    df = pd.read_csv(CSV,index_col=None,usecols=[1,3,4,5])\n",
    "    FIND=df.loc[(df['Label'] == 7) & (df['Adj_Label']==0)]['Adj_ID_encode'].values\n",
    "    FIND1=df.loc[(df['Label'] == 0) & (df['Adj_Label']==18)]['ID_encode'].values\n",
    "    BOOL_FIND=np.intersect1d(FIND, FIND1)\n",
    "    if len(BOOL_FIND)!=0:\n",
    "        Test.append(CSV.split('\\\\')[-1].split('.')[0])"
   ]
  },
  {
   "cell_type": "markdown",
   "id": "66c5f70a",
   "metadata": {},
   "source": [
    "### 7.계단-방-붙박이장"
   ]
  },
  {
   "cell_type": "code",
   "execution_count": null,
   "id": "046d351b",
   "metadata": {},
   "outputs": [],
   "source": [
    "#계단-방-붙박이장 연결된 관계\n",
    "Test=[]\n",
    "for CSV in CSV_LIST:\n",
    "    df = pd.read_csv(CSV,index_col=None,usecols=[1,3,4,5])\n",
    "    FIND=df.loc[(df['Label'] == 7) & (df['Adj_Label']==2)]['Adj_ID_encode'].values\n",
    "    FIND1=df.loc[(df['Label'] == 2) & (df['Adj_Label']==11)]['ID_encode'].values\n",
    "    BOOL_FIND=np.intersect1d(FIND, FIND1)\n",
    "    if len(BOOL_FIND)!=0:\n",
    "        Test.append(CSV.split('\\\\')[-1].split('.')[0])"
   ]
  },
  {
   "cell_type": "markdown",
   "id": "65a52329",
   "metadata": {},
   "source": [
    "### 8.계단-방-화장실"
   ]
  },
  {
   "cell_type": "code",
   "execution_count": null,
   "id": "9b2508f2",
   "metadata": {},
   "outputs": [],
   "source": [
    "#계단-방-화장실 연결된 관계\n",
    "Test=[]\n",
    "for CSV in CSV_LIST:\n",
    "    df = pd.read_csv(CSV,index_col=None,usecols=[1,3,4,5])\n",
    "    FIND=df.loc[(df['Label'] == 7) & (df['Adj_Label']==2)]['Adj_ID_encode'].values\n",
    "    FIND1=df.loc[(df['Label'] == 2) & (df['Adj_Label']==4)]['ID_encode'].values\n",
    "    BOOL_FIND=np.intersect1d(FIND, FIND1)\n",
    "    if len(BOOL_FIND)!=0:\n",
    "        Test.append(CSV.split('\\\\')[-1].split('.')[0])"
   ]
  },
  {
   "cell_type": "markdown",
   "id": "5b476117",
   "metadata": {},
   "source": [
    "### 9.계단-방-드레스룸"
   ]
  },
  {
   "cell_type": "code",
   "execution_count": null,
   "id": "b102939d",
   "metadata": {},
   "outputs": [],
   "source": [
    "#계단-방-드레스룸 연결된 관계\n",
    "Test=[]\n",
    "for CSV in CSV_LIST:\n",
    "    df = pd.read_csv(CSV,index_col=None,usecols=[1,3,4,5])\n",
    "    FIND=df.loc[(df['Label'] == 7) & (df['Adj_Label']==2)]['Adj_ID_encode'].values\n",
    "    FIND1=df.loc[(df['Label'] == 2) & (df['Adj_Label']==5)]['ID_encode'].values\n",
    "    BOOL_FIND=np.intersect1d(FIND, FIND1)\n",
    "    if len(BOOL_FIND)!=0:\n",
    "        Test.append(CSV.split('\\\\')[-1].split('.')[0])"
   ]
  },
  {
   "cell_type": "markdown",
   "id": "0f5b3163",
   "metadata": {},
   "source": [
    "### 10.계단-방-화장실-드레스룸"
   ]
  },
  {
   "cell_type": "code",
   "execution_count": null,
   "id": "6ddb05ba",
   "metadata": {},
   "outputs": [],
   "source": [
    "#계단-방-화장실-드레스룸이 연결된 관계\n",
    "Test=[]\n",
    "for CSV in CSV_LIST:\n",
    "    df = pd.read_csv(CSV,index_col=None,usecols=[1,3,4,5])\n",
    "    FIND=df.loc[(df['Label'] == 7) & (df['Adj_Label']==2)]['Adj_ID_encode'].values #계단-방\n",
    "    FIND1=df.loc[(df['Label'] == 2) & (df['Adj_Label']==4)]['ID_encode'].values #방-화장실\n",
    "    \n",
    "    FIND2=df.loc[(df['Label'] == 2) & (df['Adj_Label']==4)]['Adj_ID_encode'].values #방-화장실\n",
    "    FIND3=df.loc[(df['Label'] == 4) & (df['Adj_Label']==5)]['ID_encode'].values #화장실-드레스룸\n",
    "    \n",
    "    BOOL_FIND=np.intersect1d(FIND, FIND1)\n",
    "    BOOL_FIND1=np.intersect1d(FIND2, FIND3)\n",
    "    if (len(BOOL_FIND)!=0)&(len(BOOL_FIND1)!=0):\n",
    "        Test.append(CSV.split('\\\\')[-1].split('.')[0])"
   ]
  },
  {
   "cell_type": "markdown",
   "id": "5837ad18",
   "metadata": {},
   "source": [
    "# 차고지"
   ]
  },
  {
   "cell_type": "markdown",
   "id": "2c09061b",
   "metadata": {},
   "source": [
    "### 1.차고지-다용도실"
   ]
  },
  {
   "cell_type": "code",
   "execution_count": null,
   "id": "6d34e930",
   "metadata": {},
   "outputs": [],
   "source": [
    "#차고지-다용도실 연결된 관계\n",
    "Test=[]\n",
    "for CSV in CSV_LIST:\n",
    "    df = pd.read_csv(CSV,index_col=None,usecols=[1,3,4,5])\n",
    "    FIND=df.loc[(df['Label'] == 19) & (df['Adj_Label']==6)]['ID_encode'].values\n",
    "    if len(FIND)!=0:\n",
    "        Test.append(CSV.split('\\\\')[-1].split('.')[0])"
   ]
  },
  {
   "cell_type": "markdown",
   "id": "80aab737",
   "metadata": {},
   "source": [
    "### 2.차고지-다용도실-거실"
   ]
  },
  {
   "cell_type": "code",
   "execution_count": null,
   "id": "d476ed19",
   "metadata": {},
   "outputs": [],
   "source": [
    "#차고지-다용도실-거실 연결된 관계\n",
    "Test=[]\n",
    "for CSV in CSV_LIST:\n",
    "    df = pd.read_csv(CSV,index_col=None,usecols=[1,3,4,5])\n",
    "    FIND=df.loc[(df['Label'] == 19) & (df['Adj_Label']==6)]['Adj_ID_encode'].values\n",
    "    FIND1=df.loc[(df['Label'] == 6) & (df['Adj_Label']==1)]['ID_encode'].values\n",
    "    BOOL_FIND=np.intersect1d(FIND, FIND1)\n",
    "    if len(BOOL_FIND)!=0:\n",
    "        Test.append(CSV.split('\\\\')[-1].split('.')[0])"
   ]
  },
  {
   "cell_type": "markdown",
   "id": "3726d045",
   "metadata": {},
   "source": [
    "### 3.차고지-다용도실-주방-거실"
   ]
  },
  {
   "cell_type": "code",
   "execution_count": null,
   "id": "0631dcc9",
   "metadata": {},
   "outputs": [],
   "source": [
    "#차고지-다용도실-주방-거실이 연결된 관계\n",
    "Test=[]\n",
    "for CSV in CSV_LIST:\n",
    "    df = pd.read_csv(CSV,index_col=None,usecols=[1,3,4,5])\n",
    "    FIND=df.loc[(df['Label'] == 19) & (df['Adj_Label']==6)]['Adj_ID_encode'].values #차고지-다용도\n",
    "    FIND1=df.loc[(df['Label'] == 6) & (df['Adj_Label']==3)]['ID_encode'].values #다용도-주방\n",
    "    \n",
    "    FIND2=df.loc[(df['Label'] == 6) & (df['Adj_Label']==3)]['Adj_ID_encode'].values #다용도-주방\n",
    "    FIND3=df.loc[(df['Label'] == 3) & (df['Adj_Label']==1)]['ID_encode'].values #주방-거실\n",
    "    \n",
    "    BOOL_FIND=np.intersect1d(FIND, FIND1)\n",
    "    BOOL_FIND1=np.intersect1d(FIND2, FIND3)\n",
    "    if (len(BOOL_FIND)!=0)&(len(BOOL_FIND1)!=0):\n",
    "        Test.append(CSV.split('\\\\')[-1].split('.')[0])"
   ]
  },
  {
   "cell_type": "markdown",
   "id": "3966c0b0",
   "metadata": {},
   "source": [
    "### 4.차고지-복도-방"
   ]
  },
  {
   "cell_type": "code",
   "execution_count": null,
   "id": "56b8f104",
   "metadata": {},
   "outputs": [],
   "source": [
    "#차고지-복도-방 연결된 관계\n",
    "Test=[]\n",
    "for CSV in CSV_LIST:\n",
    "    df = pd.read_csv(CSV,index_col=None,usecols=[1,3,4,5])\n",
    "    FIND=df.loc[(df['Label'] == 19) & (df['Adj_Label']==8)]['Adj_ID_encode'].values\n",
    "    FIND1=df.loc[(df['Label'] == 8) & (df['Adj_Label']==2)]['ID_encode'].values\n",
    "    BOOL_FIND=np.intersect1d(FIND, FIND1)\n",
    "    if len(BOOL_FIND)!=0:\n",
    "        Test.append(CSV.split('\\\\')[-1].split('.')[0])"
   ]
  },
  {
   "cell_type": "markdown",
   "id": "24d9f3fb",
   "metadata": {},
   "source": [
    "### 5.차고지-세탁실"
   ]
  },
  {
   "cell_type": "code",
   "execution_count": null,
   "id": "19e72430",
   "metadata": {},
   "outputs": [],
   "source": [
    "#차고지-다용도실 연결된 관계\n",
    "Test=[]\n",
    "for CSV in CSV_LIST:\n",
    "    df = pd.read_csv(CSV,index_col=None,usecols=[1,3,4,5])\n",
    "    FIND=df.loc[(df['Label'] == 19) & (df['Adj_Label']==6)]['ID_encode'].values\n",
    "    if len(FIND)!=0:\n",
    "        Test.append(CSV.split('\\\\')[-1].split('.')[0])"
   ]
  },
  {
   "cell_type": "markdown",
   "id": "ac15e937",
   "metadata": {},
   "source": [
    "### 6.차고지-식당-거실"
   ]
  },
  {
   "cell_type": "code",
   "execution_count": null,
   "id": "fe631de8",
   "metadata": {},
   "outputs": [],
   "source": [
    "#차고지-식당-거실 연결된 관계\n",
    "Test=[]\n",
    "for CSV in CSV_LIST:\n",
    "    df = pd.read_csv(CSV,index_col=None,usecols=[1,3,4,5])\n",
    "    FIND=df.loc[(df['Label'] == 19) & (df['Adj_Label']==20)]['Adj_ID_encode'].values\n",
    "    FIND1=df.loc[(df['Label'] == 20) & (df['Adj_Label']==1)]['ID_encode'].values\n",
    "    BOOL_FIND=np.intersect1d(FIND, FIND1)\n",
    "    if len(BOOL_FIND)!=0:\n",
    "        Test.append(CSV.split('\\\\')[-1].split('.')[0])"
   ]
  },
  {
   "cell_type": "markdown",
   "id": "9116cf37",
   "metadata": {},
   "source": [
    "### 7.차고지-다용도실-주방-식당"
   ]
  },
  {
   "cell_type": "code",
   "execution_count": null,
   "id": "2e388604",
   "metadata": {},
   "outputs": [],
   "source": [
    "#차고지-다용도실-주방-식당이 연결된 관계\n",
    "Test=[]\n",
    "for CSV in CSV_LIST:\n",
    "    df = pd.read_csv(CSV,index_col=None,usecols=[1,3,4,5])\n",
    "    FIND=df.loc[(df['Label'] == 19) & (df['Adj_Label']==6)]['Adj_ID_encode'].values #차고지-다용도\n",
    "    FIND1=df.loc[(df['Label'] == 6) & (df['Adj_Label']==3)]['ID_encode'].values #다용도-주방\n",
    "    \n",
    "    FIND2=df.loc[(df['Label'] == 6) & (df['Adj_Label']==3)]['Adj_ID_encode'].values #다용도-주방\n",
    "    FIND3=df.loc[(df['Label'] == 3) & (df['Adj_Label']==20)]['ID_encode'].values #주방-식당\n",
    "    \n",
    "    BOOL_FIND=np.intersect1d(FIND, FIND1)\n",
    "    BOOL_FIND1=np.intersect1d(FIND2, FIND3)\n",
    "    if (len(BOOL_FIND)!=0)&(len(BOOL_FIND1)!=0):\n",
    "        Test.append(CSV.split('\\\\')[-1].split('.')[0])"
   ]
  },
  {
   "cell_type": "markdown",
   "id": "d3342d75",
   "metadata": {},
   "source": [
    "### 8.차고지-계단"
   ]
  },
  {
   "cell_type": "code",
   "execution_count": null,
   "id": "507989d6",
   "metadata": {},
   "outputs": [],
   "source": [
    "#차고지-계단 연결된 관계\n",
    "Test=[]\n",
    "for CSV in CSV_LIST:\n",
    "    df = pd.read_csv(CSV,index_col=None,usecols=[1,3,4,5])\n",
    "    FIND=df.loc[(df['Label'] == 19) & (df['Adj_Label']==7)]['ID_encode'].values\n",
    "    if len(FIND)!=0:\n",
    "        Test.append(CSV.split('\\\\')[-1].split('.')[0])"
   ]
  },
  {
   "cell_type": "markdown",
   "id": "e5dec031",
   "metadata": {},
   "source": [
    "### 9.차고지-포치"
   ]
  },
  {
   "cell_type": "code",
   "execution_count": null,
   "id": "031a1f47",
   "metadata": {},
   "outputs": [],
   "source": [
    "#차고지-포치 연결된 관계\n",
    "Test=[]\n",
    "for CSV in CSV_LIST:\n",
    "    df = pd.read_csv(CSV,index_col=None,usecols=[1,3,4,5])\n",
    "    FIND=df.loc[(df['Label'] == 19) & (df['Adj_Label']==18)]['ID_encode'].values\n",
    "    if len(FIND)!=0:\n",
    "        Test.append(CSV.split('\\\\')[-1].split('.')[0])"
   ]
  },
  {
   "cell_type": "markdown",
   "id": "edc10c26",
   "metadata": {},
   "source": [
    "### 10.차고지-복도"
   ]
  },
  {
   "cell_type": "code",
   "execution_count": null,
   "id": "c10adc2b",
   "metadata": {},
   "outputs": [],
   "source": [
    "#차고지-복도 연결된 관계\n",
    "Test=[]\n",
    "for CSV in CSV_LIST:\n",
    "    df = pd.read_csv(CSV,index_col=None,usecols=[1,3,4,5])\n",
    "    FIND=df.loc[(df['Label'] == 19) & (df['Adj_Label']==8)]['ID_encode'].values\n",
    "    if len(FIND)!=0:\n",
    "        Test.append(CSV.split('\\\\')[-1].split('.')[0])"
   ]
  },
  {
   "cell_type": "markdown",
   "id": "b511d62d",
   "metadata": {},
   "source": [
    "# 세탁실"
   ]
  },
  {
   "cell_type": "markdown",
   "id": "dea67a4c",
   "metadata": {},
   "source": [
    "### 1.복도-세탁실-욕실"
   ]
  },
  {
   "cell_type": "code",
   "execution_count": null,
   "id": "0546b502",
   "metadata": {},
   "outputs": [],
   "source": [
    "#복도-세탁실-욕실 연결된 관계\n",
    "Test=[]\n",
    "for CSV in CSV_LIST:\n",
    "    df = pd.read_csv(CSV,index_col=None,usecols=[1,3,4,5])\n",
    "    FIND=df.loc[(df['Label'] == 8) & (df['Adj_Label']==10)]['Adj_ID_encode'].values\n",
    "    FIND1=df.loc[(df['Label'] == 10) & (df['Adj_Label']==4)]['ID_encode'].values\n",
    "    BOOL_FIND=np.intersect1d(FIND, FIND1)\n",
    "    if len(BOOL_FIND)!=0:\n",
    "        Test.append(CSV.split('\\\\')[-1].split('.')[0])"
   ]
  },
  {
   "cell_type": "markdown",
   "id": "94f8dc0d",
   "metadata": {},
   "source": [
    "### 2. 세탁실-붙박이장"
   ]
  },
  {
   "cell_type": "code",
   "execution_count": null,
   "id": "135898f7",
   "metadata": {},
   "outputs": [],
   "source": [
    "#세탁실-붙박이장 연결된 관계\n",
    "Test=[]\n",
    "for CSV in CSV_LIST:\n",
    "    df = pd.read_csv(CSV,index_col=None,usecols=[1,3,4,5])\n",
    "    FIND=df.loc[(df['Label'] == 10) & (df['Adj_Label']==11)]['ID_encode'].values\n",
    "    if len(FIND)!=0:\n",
    "        Test.append(CSV.split('\\\\')[-1].split('.')[0])"
   ]
  },
  {
   "cell_type": "markdown",
   "id": "b3f6e8ce",
   "metadata": {},
   "source": [
    "### 3.세탁실-복도-붙박이장"
   ]
  },
  {
   "cell_type": "code",
   "execution_count": null,
   "id": "e725429d",
   "metadata": {},
   "outputs": [],
   "source": [
    "#세탁실-복도-붙박이장 연결된 관계\n",
    "Test=[]\n",
    "for CSV in CSV_LIST:\n",
    "    df = pd.read_csv(CSV,index_col=None,usecols=[1,3,4,5])\n",
    "    FIND=df.loc[(df['Label'] == 10) & (df['Adj_Label']==8)]['Adj_ID_encode'].values\n",
    "    FIND1=df.loc[(df['Label'] == 8) & (df['Adj_Label']==11)]['ID_encode'].values\n",
    "    BOOL_FIND=np.intersect1d(FIND, FIND1)\n",
    "    if len(BOOL_FIND)!=0:\n",
    "        Test.append(CSV.split('\\\\')[-1].split('.')[0])"
   ]
  },
  {
   "cell_type": "markdown",
   "id": "923ff1f0",
   "metadata": {},
   "source": [
    "### 4.세탁실-복도-다용도실"
   ]
  },
  {
   "cell_type": "code",
   "execution_count": null,
   "id": "6d783833",
   "metadata": {},
   "outputs": [],
   "source": [
    "#세탁실-복도-다용도실 연결된 관계\n",
    "Test=[]\n",
    "for CSV in CSV_LIST:\n",
    "    df = pd.read_csv(CSV,index_col=None,usecols=[1,3,4,5])\n",
    "    FIND=df.loc[(df['Label'] == 10) & (df['Adj_Label']==8)]['Adj_ID_encode'].values\n",
    "    FIND1=df.loc[(df['Label'] == 8) & (df['Adj_Label']==6)]['ID_encode'].values\n",
    "    BOOL_FIND=np.intersect1d(FIND, FIND1)\n",
    "    if len(BOOL_FIND)!=0:\n",
    "        Test.append(CSV.split('\\\\')[-1].split('.')[0])"
   ]
  },
  {
   "cell_type": "markdown",
   "id": "af550fa2",
   "metadata": {},
   "source": [
    "### 5.세탁실-복도-방"
   ]
  },
  {
   "cell_type": "code",
   "execution_count": null,
   "id": "606b7425",
   "metadata": {},
   "outputs": [],
   "source": [
    "#세탁실-복도-방 연결된 관계\n",
    "Test=[]\n",
    "for CSV in CSV_LIST:\n",
    "    df = pd.read_csv(CSV,index_col=None,usecols=[1,3,4,5])\n",
    "    FIND=df.loc[(df['Label'] == 10) & (df['Adj_Label']==8)]['Adj_ID_encode'].values\n",
    "    FIND1=df.loc[(df['Label'] == 8) & (df['Adj_Label']==2)]['ID_encode'].values\n",
    "    BOOL_FIND=np.intersect1d(FIND, FIND1)\n",
    "    if len(BOOL_FIND)!=0:\n",
    "        Test.append(CSV.split('\\\\')[-1].split('.')[0])"
   ]
  },
  {
   "cell_type": "markdown",
   "id": "32f7fbc7",
   "metadata": {},
   "source": [
    "### 6.복도-세탁실-차고지"
   ]
  },
  {
   "cell_type": "code",
   "execution_count": null,
   "id": "17984cfa",
   "metadata": {},
   "outputs": [],
   "source": [
    "#복도-세탁실-차고지 연결된 관계\n",
    "Test=[]\n",
    "for CSV in CSV_LIST:\n",
    "    df = pd.read_csv(CSV,index_col=None,usecols=[1,3,4,5])\n",
    "    FIND=df.loc[(df['Label'] == 8) & (df['Adj_Label']==10)]['Adj_ID_encode'].values\n",
    "    FIND1=df.loc[(df['Label'] == 10) & (df['Adj_Label']==19)]['ID_encode'].values\n",
    "    BOOL_FIND=np.intersect1d(FIND, FIND1)\n",
    "    if len(BOOL_FIND)!=0:\n",
    "        Test.append(CSV.split('\\\\')[-1].split('.')[0])"
   ]
  },
  {
   "cell_type": "markdown",
   "id": "9d618e91",
   "metadata": {},
   "source": [
    "### 7.차고지-세탁실-현관"
   ]
  },
  {
   "cell_type": "code",
   "execution_count": null,
   "id": "2cc35c00",
   "metadata": {},
   "outputs": [],
   "source": [
    "#차고지-세탁실-현관 연결된 관계\n",
    "Test=[]\n",
    "for CSV in CSV_LIST:\n",
    "    df = pd.read_csv(CSV,index_col=None,usecols=[1,3,4,5])\n",
    "    FIND=df.loc[(df['Label'] == 19) & (df['Adj_Label']==10)]['Adj_ID_encode'].values\n",
    "    FIND1=df.loc[(df['Label'] == 10) & (df['Adj_Label']==0)]['ID_encode'].values\n",
    "    BOOL_FIND=np.intersect1d(FIND, FIND1)\n",
    "    if len(BOOL_FIND)!=0:\n",
    "        Test.append(CSV.split('\\\\')[-1].split('.')[0])"
   ]
  },
  {
   "cell_type": "markdown",
   "id": "ca178ab0",
   "metadata": {},
   "source": [
    "### 8.세탁실-복도-화장실"
   ]
  },
  {
   "cell_type": "code",
   "execution_count": null,
   "id": "a5c28864",
   "metadata": {},
   "outputs": [],
   "source": [
    "#세탁실-복도-화장실 연결된 관계\n",
    "Test=[]\n",
    "for CSV in CSV_LIST:\n",
    "    df = pd.read_csv(CSV,index_col=None,usecols=[1,3,4,5])\n",
    "    FIND=df.loc[(df['Label'] == 10) & (df['Adj_Label']==8)]['Adj_ID_encode'].values\n",
    "    FIND1=df.loc[(df['Label'] == 8) & (df['Adj_Label']==4)]['ID_encode'].values\n",
    "    BOOL_FIND=np.intersect1d(FIND, FIND1)\n",
    "    if len(BOOL_FIND)!=0:\n",
    "        Test.append(CSV.split('\\\\')[-1].split('.')[0])"
   ]
  },
  {
   "cell_type": "markdown",
   "id": "98795afd",
   "metadata": {},
   "source": [
    "### 9.세탁실-복도-주방"
   ]
  },
  {
   "cell_type": "code",
   "execution_count": null,
   "id": "2ee8925b",
   "metadata": {},
   "outputs": [],
   "source": [
    "#세탁실-복도-주방 연결된 관계\n",
    "Test=[]\n",
    "for CSV in CSV_LIST:\n",
    "    df = pd.read_csv(CSV,index_col=None,usecols=[1,3,4,5])\n",
    "    FIND=df.loc[(df['Label'] == 10) & (df['Adj_Label']==8)]['Adj_ID_encode'].values\n",
    "    FIND1=df.loc[(df['Label'] == 8) & (df['Adj_Label']==3)]['ID_encode'].values\n",
    "    BOOL_FIND=np.intersect1d(FIND, FIND1)\n",
    "    if len(BOOL_FIND)!=0:\n",
    "        Test.append(CSV.split('\\\\')[-1].split('.')[0])"
   ]
  },
  {
   "cell_type": "markdown",
   "id": "c5c8db34",
   "metadata": {},
   "source": [
    "### 10.세탁실-복도-거실"
   ]
  },
  {
   "cell_type": "code",
   "execution_count": null,
   "id": "5d5edd67",
   "metadata": {},
   "outputs": [],
   "source": [
    "#세탁실-복도-거실 연결된 관계\n",
    "Test=[]\n",
    "for CSV in CSV_LIST:\n",
    "    df = pd.read_csv(CSV,index_col=None,usecols=[1,3,4,5])\n",
    "    FIND=df.loc[(df['Label'] == 10) & (df['Adj_Label']==8)]['Adj_ID_encode'].values\n",
    "    FIND1=df.loc[(df['Label'] == 8) & (df['Adj_Label']==1)]['ID_encode'].values\n",
    "    BOOL_FIND=np.intersect1d(FIND, FIND1)\n",
    "    if len(BOOL_FIND)!=0:\n",
    "        Test.append(CSV.split('\\\\')[-1].split('.')[0])"
   ]
  },
  {
   "cell_type": "markdown",
   "id": "a037a8c7",
   "metadata": {},
   "source": [
    "# 드레스룸"
   ]
  },
  {
   "cell_type": "markdown",
   "id": "b7367007",
   "metadata": {},
   "source": [
    "### 1. 화장실-붙박이장-드레스룸"
   ]
  },
  {
   "cell_type": "code",
   "execution_count": null,
   "id": "c9d62399",
   "metadata": {},
   "outputs": [],
   "source": [
    "#화장실-붙박이장-드레스룸 연결된 관계\n",
    "Test=[]\n",
    "for CSV in CSV_LIST:\n",
    "    df = pd.read_csv(CSV,index_col=None,usecols=[1,3,4,5])\n",
    "    FIND=df.loc[(df['Label'] == 4) & (df['Adj_Label']==11)]['Adj_ID_encode'].values\n",
    "    FIND1=df.loc[(df['Label'] == 11) & (df['Adj_Label']==5)]['ID_encode'].values\n",
    "    BOOL_FIND=np.intersect1d(FIND, FIND1)\n",
    "    if len(BOOL_FIND)!=0:\n",
    "        Test.append(CSV.split('\\\\')[-1].split('.')[0])"
   ]
  },
  {
   "cell_type": "markdown",
   "id": "412d1967",
   "metadata": {},
   "source": [
    "### 2. 복도-방-화장실-드레스룸"
   ]
  },
  {
   "cell_type": "code",
   "execution_count": null,
   "id": "8bb4868c",
   "metadata": {},
   "outputs": [],
   "source": [
    "#복도-방-화장실-드레스룸이 연결된 관계\n",
    "Test=[]\n",
    "for CSV in CSV_LIST:\n",
    "    df = pd.read_csv(CSV,index_col=None,usecols=[1,3,4,5])\n",
    "    FIND=df.loc[(df['Label'] == 8) & (df['Adj_Label']==2)]['Adj_ID_encode'].values #거실-방\n",
    "    FIND1=df.loc[(df['Label'] == 2) & (df['Adj_Label']==4)]['ID_encode'].values #방-화장실\n",
    "    \n",
    "    FIND2=df.loc[(df['Label'] == 2) & (df['Adj_Label']==4)]['Adj_ID_encode'].values #방-화장실\n",
    "    FIND3=df.loc[(df['Label'] == 4) & (df['Adj_Label']==5)]['ID_encode'].values #화장실-드레스룸\n",
    "    \n",
    "    BOOL_FIND=np.intersect1d(FIND, FIND1)\n",
    "    BOOL_FIND1=np.intersect1d(FIND2, FIND3)\n",
    "    if (len(BOOL_FIND)!=0)&(len(BOOL_FIND1)!=0):\n",
    "        Test.append(CSV.split('\\\\')[-1].split('.')[0])"
   ]
  },
  {
   "cell_type": "markdown",
   "id": "acbcd8f4",
   "metadata": {},
   "source": [
    "### 3. 방-화장실, 방-붙박이장,방-드레스룸"
   ]
  },
  {
   "cell_type": "code",
   "execution_count": null,
   "id": "918e3633",
   "metadata": {},
   "outputs": [],
   "source": [
    "#방-드레스룸,방-화장실,방-붙박이장 연결된 관계\n",
    "Test=[]\n",
    "for CSV in CSV_LIST:\n",
    "    df = pd.read_csv(CSV,index_col=None,usecols=[1,3,4,5])\n",
    "    FIND=df.loc[(df['Label'] == 2) & (df['Adj_Label']==5)]['ID_encode'].values\n",
    "    FIND1=df.loc[(df['Label'] == 2) & (df['Adj_Label']==4)]['ID_encode'].values\n",
    "    FIND2=df.loc[(df['Label'] == 2) & (df['Adj_Label']==11)]['ID_encode'].values\n",
    "    if (len(FIND1)!=0)&(len(FIND)!=0)&(len(FIND2)!=0):\n",
    "            Test.append(CSV.split('\\\\')[-1].split('.')[0])"
   ]
  },
  {
   "cell_type": "markdown",
   "id": "8fdcf0fb",
   "metadata": {},
   "source": [
    "### 4. 거실-방-화장실-드레스룸"
   ]
  },
  {
   "cell_type": "code",
   "execution_count": null,
   "id": "2d99e42f",
   "metadata": {},
   "outputs": [],
   "source": [
    "#거실-방-화장실-드레스룸이 연결된 관계\n",
    "Test=[]\n",
    "for CSV in CSV_LIST:\n",
    "    df = pd.read_csv(CSV,index_col=None,usecols=[1,3,4,5])\n",
    "    FIND=df.loc[(df['Label'] == 1) & (df['Adj_Label']==2)]['Adj_ID_encode'].values #거실-방\n",
    "    FIND1=df.loc[(df['Label'] == 2) & (df['Adj_Label']==4)]['ID_encode'].values #방-화장실\n",
    "    \n",
    "    FIND2=df.loc[(df['Label'] == 2) & (df['Adj_Label']==4)]['Adj_ID_encode'].values #방-화장실\n",
    "    FIND3=df.loc[(df['Label'] == 4) & (df['Adj_Label']==5)]['ID_encode'].values #화장실-드레스룸\n",
    "    \n",
    "    BOOL_FIND=np.intersect1d(FIND, FIND1)\n",
    "    BOOL_FIND1=np.intersect1d(FIND2, FIND3)\n",
    "    if (len(BOOL_FIND)!=0)&(len(BOOL_FIND1)!=0):\n",
    "        Test.append(CSV.split('\\\\')[-1].split('.')[0])"
   ]
  },
  {
   "cell_type": "markdown",
   "id": "03dcb6d3",
   "metadata": {},
   "source": [
    "### 5. 드레스룸-세탁실"
   ]
  },
  {
   "cell_type": "code",
   "execution_count": null,
   "id": "ec4f001b",
   "metadata": {},
   "outputs": [],
   "source": [
    "#드레스룸-세탁실 연결된 관계\n",
    "Test=[]\n",
    "for CSV in CSV_LIST:\n",
    "    df = pd.read_csv(CSV,index_col=None,usecols=[1,3,4,5])\n",
    "    FIND=df.loc[(df['Label'] == 5) & (df['Adj_Label']==10)]['ID_encode'].values\n",
    "    if len(FIND)!=0:\n",
    "        Test.append(CSV.split('\\\\')[-1].split('.')[0])"
   ]
  },
  {
   "cell_type": "markdown",
   "id": "bf1d4b9d",
   "metadata": {},
   "source": [
    "# 붙박이장"
   ]
  },
  {
   "cell_type": "markdown",
   "id": "eb0aae62",
   "metadata": {},
   "source": [
    "### 1.계단실-붙박이장"
   ]
  },
  {
   "cell_type": "code",
   "execution_count": null,
   "id": "e7b4732b",
   "metadata": {},
   "outputs": [],
   "source": [
    "#계단-붙박이장 연결된 관계\n",
    "Test=[]\n",
    "for CSV in CSV_LIST:\n",
    "    df = pd.read_csv(CSV,index_col=None,usecols=[1,3,4,5])\n",
    "    FIND=df.loc[(df['Label'] == 7) & (df['Adj_Label']==11)]['ID_encode'].values\n",
    "    if len(FIND)!=0:\n",
    "        Test.append(CSV.split('\\\\')[-1].split('.')[0])"
   ]
  },
  {
   "cell_type": "markdown",
   "id": "a165c4fa",
   "metadata": {},
   "source": [
    "### 2.거실-붙박이장"
   ]
  },
  {
   "cell_type": "code",
   "execution_count": null,
   "id": "63d1b13b",
   "metadata": {},
   "outputs": [],
   "source": [
    "#거실-붙박이장 연결된 관계\n",
    "Test=[]\n",
    "for CSV in CSV_LIST:\n",
    "    df = pd.read_csv(CSV,index_col=None,usecols=[1,3,4,5])\n",
    "    FIND=df.loc[(df['Label'] == 1) & (df['Adj_Label']==11)]['ID_encode'].values\n",
    "    if len(FIND)!=0:\n",
    "        Test.append(CSV.split('\\\\')[-1].split('.')[0])"
   ]
  },
  {
   "cell_type": "markdown",
   "id": "1bc79b06",
   "metadata": {},
   "source": [
    "### 3.화장실-붙박이장"
   ]
  },
  {
   "cell_type": "code",
   "execution_count": null,
   "id": "75c2d1ab",
   "metadata": {},
   "outputs": [],
   "source": [
    "#화장실-붙박이장 연결된 관계\n",
    "Test=[]\n",
    "for CSV in CSV_LIST:\n",
    "    df = pd.read_csv(CSV,index_col=None,usecols=[1,3,4,5])\n",
    "    FIND=df.loc[(df['Label'] == 4) & (df['Adj_Label']==11)]['ID_encode'].values\n",
    "    if len(FIND)!=0:\n",
    "        Test.append(CSV.split('\\\\')[-1].split('.')[0])"
   ]
  },
  {
   "cell_type": "markdown",
   "id": "b44d3946",
   "metadata": {},
   "source": [
    "### 4.방-붙박이장"
   ]
  },
  {
   "cell_type": "code",
   "execution_count": null,
   "id": "3aafb074",
   "metadata": {},
   "outputs": [],
   "source": [
    "#방-붙박이장 연결된 관계\n",
    "Test=[]\n",
    "for CSV in CSV_LIST:\n",
    "    df = pd.read_csv(CSV,index_col=None,usecols=[1,3,4,5])\n",
    "    FIND=df.loc[(df['Label'] == 2) & (df['Adj_Label']==11)]['ID_encode'].values\n",
    "    if len(FIND)!=0:\n",
    "        Test.append(CSV.split('\\\\')[-1].split('.')[0])"
   ]
  },
  {
   "cell_type": "markdown",
   "id": "0f7c243c",
   "metadata": {},
   "source": [
    "### 5. 방-화장실, 방-붙박이장,방-복도"
   ]
  },
  {
   "cell_type": "code",
   "execution_count": null,
   "id": "df3ed83d",
   "metadata": {},
   "outputs": [],
   "source": [
    "#방-복도,방-화장실,방-붙박이장 연결된 관계\n",
    "Test=[]\n",
    "for CSV in CSV_LIST:\n",
    "    df = pd.read_csv(CSV,index_col=None,usecols=[1,3,4,5])\n",
    "    FIND=df.loc[(df['Label'] == 2) & (df['Adj_Label']==8)]['ID_encode'].values\n",
    "    FIND1=df.loc[(df['Label'] == 2) & (df['Adj_Label']==4)]['ID_encode'].values\n",
    "    FIND2=df.loc[(df['Label'] == 2) & (df['Adj_Label']==11)]['ID_encode'].values\n",
    "    if (len(FIND1)!=0)&(len(FIND)!=0)&(len(FIND2)!=0):\n",
    "            Test.append(CSV.split('\\\\')[-1].split('.')[0])"
   ]
  },
  {
   "cell_type": "markdown",
   "id": "4e928885",
   "metadata": {},
   "source": [
    "# 다용도실"
   ]
  },
  {
   "cell_type": "markdown",
   "id": "bf48e08d",
   "metadata": {},
   "source": [
    "### 1.다용도실-붙박이장 "
   ]
  },
  {
   "cell_type": "code",
   "execution_count": null,
   "id": "6698927b",
   "metadata": {},
   "outputs": [],
   "source": [
    "#다용도실-붙박이장 연결된 관계\n",
    "Test=[]\n",
    "for CSV in CSV_LIST:\n",
    "    df = pd.read_csv(CSV,index_col=None,usecols=[1,3,4,5])\n",
    "    FIND=df.loc[(df['Label'] == 6) & (df['Adj_Label']==11)]['ID_encode'].values\n",
    "    if len(FIND)!=0:\n",
    "        Test.append(CSV.split('\\\\')[-1].split('.')[0])"
   ]
  },
  {
   "cell_type": "markdown",
   "id": "731cef89",
   "metadata": {},
   "source": [
    "### 2. 세탁실-다용도실"
   ]
  },
  {
   "cell_type": "code",
   "execution_count": null,
   "id": "e64e5418",
   "metadata": {},
   "outputs": [],
   "source": [
    "#세탁실-다용도실 연결된 관계\n",
    "Test=[]\n",
    "for CSV in CSV_LIST:\n",
    "    df = pd.read_csv(CSV,index_col=None,usecols=[1,3,4,5])\n",
    "    FIND=df.loc[(df['Label'] == 10) & (df['Adj_Label']==6)]['ID_encode'].values\n",
    "    if len(FIND)!=0:\n",
    "        Test.append(CSV.split('\\\\')[-1].split('.')[0])"
   ]
  },
  {
   "cell_type": "markdown",
   "id": "30940a59",
   "metadata": {},
   "source": [
    "### 3. 복도-다용도실-차고지"
   ]
  },
  {
   "cell_type": "code",
   "execution_count": null,
   "id": "6bd8efba",
   "metadata": {},
   "outputs": [],
   "source": [
    "#복도-다용도실-차고지 연결된 관계\n",
    "Test=[]\n",
    "for CSV in CSV_LIST:\n",
    "    df = pd.read_csv(CSV,index_col=None,usecols=[1,3,4,5])\n",
    "    FIND=df.loc[(df['Label'] == 8) & (df['Adj_Label']==6)]['Adj_ID_encode'].values\n",
    "    FIND1=df.loc[(df['Label'] == 6) & (df['Adj_Label']==19)]['ID_encode'].values\n",
    "    BOOL_FIND=np.intersect1d(FIND, FIND1)\n",
    "    if len(BOOL_FIND)!=0:\n",
    "        Test.append(CSV.split('\\\\')[-1].split('.')[0])"
   ]
  },
  {
   "cell_type": "markdown",
   "id": "67d33ade",
   "metadata": {},
   "source": [
    "### 4. 주방-다용도실"
   ]
  },
  {
   "cell_type": "code",
   "execution_count": null,
   "id": "12b23cd1",
   "metadata": {},
   "outputs": [],
   "source": [
    "#주방-다용도실 연결된 관계\n",
    "Test=[]\n",
    "for CSV in CSV_LIST:\n",
    "    df = pd.read_csv(CSV,index_col=None,usecols=[1,3,4,5])\n",
    "    FIND=df.loc[(df['Label'] == 3) & (df['Adj_Label']==6)]['ID_encode'].values\n",
    "    if len(FIND)!=0:\n",
    "        Test.append(CSV.split('\\\\')[-1].split('.')[0])"
   ]
  },
  {
   "cell_type": "markdown",
   "id": "fd69a56d",
   "metadata": {},
   "source": [
    "### 5. 주방-다용도실-차고지"
   ]
  },
  {
   "cell_type": "code",
   "execution_count": null,
   "id": "ca66000c",
   "metadata": {},
   "outputs": [],
   "source": [
    "#주방-다용도-차고지 연결된 관계\n",
    "Test=[]\n",
    "for CSV in CSV_LIST:\n",
    "    df = pd.read_csv(CSV,index_col=None,usecols=[1,3,4,5])\n",
    "    FIND=df.loc[(df['Label'] == 3) & (df['Adj_Label']==6)]['Adj_ID_encode'].values\n",
    "    FIND1=df.loc[(df['Label'] == 6) & (df['Adj_Label']==19)]['ID_encode'].values\n",
    "    BOOL_FIND=np.intersect1d(FIND, FIND1)\n",
    "    if len(BOOL_FIND)!=0:\n",
    "        Test.append(CSV.split('\\\\')[-1].split('.')[0])"
   ]
  },
  {
   "cell_type": "markdown",
   "id": "fd3da7e1",
   "metadata": {},
   "source": [
    "# 펜트리실"
   ]
  },
  {
   "cell_type": "markdown",
   "id": "affd0b1f",
   "metadata": {},
   "source": [
    "### 1. 거실-펜트리실"
   ]
  },
  {
   "cell_type": "code",
   "execution_count": null,
   "id": "50bdacd5",
   "metadata": {},
   "outputs": [],
   "source": [
    "#거실-펜트리실 연결된 관계\n",
    "Test=[]\n",
    "for CSV in CSV_LIST:\n",
    "    df = pd.read_csv(CSV,index_col=None,usecols=[1,3,4,5])\n",
    "    FIND=df.loc[(df['Label'] == 1) & (df['Adj_Label']==9)]['ID_encode'].values\n",
    "    if len(FIND)!=0:\n",
    "        Test.append(CSV.split('\\\\')[-1].split('.')[0])"
   ]
  },
  {
   "cell_type": "markdown",
   "id": "72066503",
   "metadata": {},
   "source": [
    "### 2. 복도-펜트리실"
   ]
  },
  {
   "cell_type": "code",
   "execution_count": null,
   "id": "c79f8178",
   "metadata": {},
   "outputs": [],
   "source": [
    "#복도-펜트리실 연결된 관계\n",
    "Test=[]\n",
    "for CSV in CSV_LIST:\n",
    "    df = pd.read_csv(CSV,index_col=None,usecols=[1,3,4,5])\n",
    "    FIND=df.loc[(df['Label'] == 8) & (df['Adj_Label']==9)]['ID_encode'].values\n",
    "    if len(FIND)!=0:\n",
    "        Test.append(CSV.split('\\\\')[-1].split('.')[0])"
   ]
  },
  {
   "cell_type": "markdown",
   "id": "bccd94b8",
   "metadata": {},
   "source": [
    "### 3. 거실-주방-펜트리실"
   ]
  },
  {
   "cell_type": "code",
   "execution_count": null,
   "id": "aed5aabe",
   "metadata": {},
   "outputs": [],
   "source": [
    "#거실-주방-펜트리실 연결된 관계\n",
    "Test=[]\n",
    "for CSV in CSV_LIST:\n",
    "    df = pd.read_csv(CSV,index_col=None,usecols=[1,3,4,5])\n",
    "    FIND=df.loc[(df['Label'] == 1) & (df['Adj_Label']==3)]['Adj_ID_encode'].values\n",
    "    FIND1=df.loc[(df['Label'] == 3) & (df['Adj_Label']==9)]['ID_encode'].values\n",
    "    BOOL_FIND=np.intersect1d(FIND, FIND1)\n",
    "    if len(BOOL_FIND)!=0:\n",
    "        Test.append(CSV.split('\\\\')[-1].split('.')[0])"
   ]
  },
  {
   "cell_type": "markdown",
   "id": "91171dee",
   "metadata": {},
   "source": [
    "### 4. 다용도실-펜트리실"
   ]
  },
  {
   "cell_type": "code",
   "execution_count": null,
   "id": "29b0e291",
   "metadata": {},
   "outputs": [],
   "source": [
    "#다용도실-펜트리실 연결된 관계\n",
    "Test=[]\n",
    "for CSV in CSV_LIST:\n",
    "    df = pd.read_csv(CSV,index_col=None,usecols=[1,3,4,5])\n",
    "    FIND=df.loc[(df['Label'] == 6) & (df['Adj_Label']==9)]['ID_encode'].values\n",
    "    if len(FIND)!=0:\n",
    "        Test.append(CSV.split('\\\\')[-1].split('.')[0])"
   ]
  },
  {
   "cell_type": "markdown",
   "id": "67d3f8eb",
   "metadata": {},
   "source": [
    "### 5. 현관-펜트리실"
   ]
  },
  {
   "cell_type": "code",
   "execution_count": null,
   "id": "375f0812",
   "metadata": {},
   "outputs": [],
   "source": [
    "#현관-펜트리실 연결된 관계\n",
    "Test=[]\n",
    "for CSV in CSV_LIST:\n",
    "    df = pd.read_csv(CSV,index_col=None,usecols=[1,3,4,5])\n",
    "    FIND=df.loc[(df['Label'] == 0) & (df['Adj_Label']==9)]['ID_encode'].values\n",
    "    if len(FIND)!=0:\n",
    "        Test.append(CSV.split('\\\\')[-1].split('.')[0])"
   ]
  }
 ],
 "metadata": {
  "kernelspec": {
   "display_name": "Python 3.8.13 ('final_simgnn')",
   "language": "python",
   "name": "python3"
  },
  "language_info": {
   "codemirror_mode": {
    "name": "ipython",
    "version": 3
   },
   "file_extension": ".py",
   "mimetype": "text/x-python",
   "name": "python",
   "nbconvert_exporter": "python",
   "pygments_lexer": "ipython3",
   "version": "3.8.13"
  },
  "vscode": {
   "interpreter": {
    "hash": "02afd1bd554ac67b0f4d9d6cb18c3f30d001b882cfff6babc8fe2f0083442348"
   }
  }
 },
 "nbformat": 4,
 "nbformat_minor": 5
}
